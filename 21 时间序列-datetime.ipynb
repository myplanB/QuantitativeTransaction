{
 "cells": [
  {
   "cell_type": "code",
   "execution_count": 1,
   "metadata": {},
   "outputs": [],
   "source": [
    "import numpy as np\n",
    "import pandas as pd\n",
    "import matplotlib.pyplot as plt\n",
    "%matplotlib inline\n",
    "import warnings;\n",
    "warnings.simplefilter('ignore')"
   ]
  },
  {
   "cell_type": "code",
   "execution_count": 2,
   "metadata": {},
   "outputs": [
    {
     "name": "stdout",
     "output_type": "stream",
     "text": [
      "2020-06-23 19:04:47.714789\n",
      "<class 'datetime.datetime'>\n"
     ]
    }
   ],
   "source": [
    "#1、 python下的日期格式\n",
    "import datetime\n",
    "\n",
    "# datetime，日期格式\n",
    "# timedelta 时间差\n",
    "\n",
    "now = datetime.datetime.now()\n",
    "print(now)\n",
    "print(type(now))"
   ]
  },
  {
   "cell_type": "code",
   "execution_count": 3,
   "metadata": {},
   "outputs": [
    {
     "name": "stdout",
     "output_type": "stream",
     "text": [
      "2020年6月23日\n"
     ]
    }
   ],
   "source": [
    "#2、 时间格式化\n",
    "print('{}年{}月{}日'.format(now.year,now.month,now.day))"
   ]
  },
  {
   "cell_type": "code",
   "execution_count": 4,
   "metadata": {},
   "outputs": [
    {
     "data": {
      "text/plain": [
       "datetime.timedelta(days=1057, seconds=68687, microseconds=733737)"
      ]
     },
     "execution_count": 4,
     "metadata": {},
     "output_type": "execute_result"
    }
   ],
   "source": [
    "# 3、计算时间差\n",
    "datetime.datetime.now() - datetime.datetime(2017,8,1)"
   ]
  },
  {
   "cell_type": "code",
   "execution_count": 5,
   "metadata": {},
   "outputs": [
    {
     "data": {
      "text/plain": [
       "datetime.datetime(2017, 8, 19, 0, 0)"
      ]
     },
     "execution_count": 5,
     "metadata": {},
     "output_type": "execute_result"
    }
   ],
   "source": [
    "# 4、时间格式转换\n",
    "dt_time = datetime.datetime(2017,8,19)\n",
    "dt_time"
   ]
  },
  {
   "cell_type": "code",
   "execution_count": 6,
   "metadata": {},
   "outputs": [
    {
     "data": {
      "text/plain": [
       "datetime.datetime(2017, 6, 18, 21, 45)"
      ]
     },
     "execution_count": 6,
     "metadata": {},
     "output_type": "execute_result"
    }
   ],
   "source": [
    "datetime.datetime(2017,6,18,21,45)"
   ]
  },
  {
   "cell_type": "code",
   "execution_count": 7,
   "metadata": {},
   "outputs": [
    {
     "data": {
      "text/plain": [
       "'19/08/2017'"
      ]
     },
     "execution_count": 7,
     "metadata": {},
     "output_type": "execute_result"
    }
   ],
   "source": [
    "# 变化格式\n",
    "str_time = dt_time.strftime('%d/%m/%Y')\n",
    "str_time"
   ]
  },
  {
   "cell_type": "code",
   "execution_count": 8,
   "metadata": {},
   "outputs": [
    {
     "name": "stdout",
     "output_type": "stream",
     "text": [
      "<class 'datetime.datetime'>\n",
      "2017-06-18 00:00:00\n"
     ]
    }
   ],
   "source": [
    "# 将字符串变成datetime有3种方式：\n",
    "# 方法1 \n",
    "dt_str = '2017-06-18'\n",
    "dt_time = datetime.datetime.strptime(dt_str,'%Y-%m-%d')\n",
    "print(type(dt_time))\n",
    "print(dt_time)"
   ]
  },
  {
   "cell_type": "code",
   "execution_count": 9,
   "metadata": {},
   "outputs": [
    {
     "name": "stdout",
     "output_type": "stream",
     "text": [
      "<class 'datetime.datetime'>\n",
      "2017-06-18 00:00:00\n"
     ]
    }
   ],
   "source": [
    "# 方法2 \n",
    "from dateutil.parser import parse\n",
    "dt_str2 = '18-06-17'\n",
    "dt_time2 = parse(dt_str2)\n",
    "print(type(dt_time2))\n",
    "print(dt_time2)"
   ]
  },
  {
   "cell_type": "code",
   "execution_count": 10,
   "metadata": {},
   "outputs": [
    {
     "data": {
      "text/plain": [
       "0    2017-06-18\n",
       "1    2017-06-19\n",
       "2    2017-06-20\n",
       "3    2017-06-21\n",
       "Name: Course_time, dtype: object"
      ]
     },
     "execution_count": 10,
     "metadata": {},
     "output_type": "execute_result"
    }
   ],
   "source": [
    "# 方法3 使用pandas\n",
    "import pandas as pd\n",
    "str_time = pd.Series(['2017-06-18','2017-06-19','2017-06-20','2017-06-21'],name='Course_time')\n",
    "str_time"
   ]
  },
  {
   "cell_type": "code",
   "execution_count": 11,
   "metadata": {},
   "outputs": [],
   "source": [
    "dt_time = pd.to_datetime(str_time)"
   ]
  },
  {
   "cell_type": "code",
   "execution_count": 12,
   "metadata": {},
   "outputs": [
    {
     "data": {
      "text/plain": [
       "0   2017-06-18\n",
       "1   2017-06-19\n",
       "2   2017-06-20\n",
       "3   2017-06-21\n",
       "Name: Course_time, dtype: datetime64[ns]"
      ]
     },
     "execution_count": 12,
     "metadata": {},
     "output_type": "execute_result"
    }
   ],
   "source": [
    "dt_time"
   ]
  },
  {
   "cell_type": "code",
   "execution_count": 14,
   "metadata": {},
   "outputs": [],
   "source": [
    "# 5、pandas金融数据时间格式\n",
    "# datetimeindex 时间索引的格式\n",
    "import datetime\n",
    "dates = [datetime.datetime(2014,8,1),datetime.datetime(2014,8,2)]"
   ]
  },
  {
   "cell_type": "code",
   "execution_count": 17,
   "metadata": {},
   "outputs": [
    {
     "data": {
      "text/plain": [
       "DatetimeIndex(['2014-08-01', '2014-08-02'], dtype='datetime64[ns]', freq=None)"
      ]
     },
     "execution_count": 17,
     "metadata": {},
     "output_type": "execute_result"
    }
   ],
   "source": [
    "# 输入参数必须为datetimeindex类型\n",
    "df = pd.DatetimeIndex(dates)\n",
    "df"
   ]
  },
  {
   "cell_type": "code",
   "execution_count": 19,
   "metadata": {},
   "outputs": [
    {
     "data": {
      "text/plain": [
       "2014-08-01    0.567368\n",
       "2014-08-02    0.418257\n",
       "dtype: float64"
      ]
     },
     "execution_count": 19,
     "metadata": {},
     "output_type": "execute_result"
    }
   ],
   "source": [
    "df = pd.Series(np.random.random(2),index=dates)\n",
    "df"
   ]
  },
  {
   "cell_type": "code",
   "execution_count": 20,
   "metadata": {},
   "outputs": [
    {
     "data": {
      "text/plain": [
       "DatetimeIndex(['2014-08-01', '2014-08-02'], dtype='datetime64[ns]', freq=None)"
      ]
     },
     "execution_count": 20,
     "metadata": {},
     "output_type": "execute_result"
    }
   ],
   "source": [
    "df.index"
   ]
  },
  {
   "cell_type": "code",
   "execution_count": 21,
   "metadata": {},
   "outputs": [
    {
     "data": {
      "text/plain": [
       "Timestamp('2014-08-01 00:00:00')"
      ]
     },
     "execution_count": 21,
     "metadata": {},
     "output_type": "execute_result"
    }
   ],
   "source": [
    "df.index[0]  # timestamp类型"
   ]
  },
  {
   "cell_type": "code",
   "execution_count": 22,
   "metadata": {},
   "outputs": [
    {
     "data": {
      "text/plain": [
       "0.4182567158793613"
      ]
     },
     "execution_count": 22,
     "metadata": {},
     "output_type": "execute_result"
    }
   ],
   "source": [
    "# Datetimeindex 只有index为datetimeindex类型才有如下操作\n",
    "df['2014-08-02']"
   ]
  },
  {
   "cell_type": "code",
   "execution_count": 23,
   "metadata": {},
   "outputs": [
    {
     "data": {
      "text/plain": [
       "2014-08-01    0.567368\n",
       "2014-08-02    0.418257\n",
       "dtype: float64"
      ]
     },
     "execution_count": 23,
     "metadata": {},
     "output_type": "execute_result"
    }
   ],
   "source": [
    "# 只有index为datetimeindex类型才有如下操作\n",
    "df['2014']"
   ]
  },
  {
   "cell_type": "code",
   "execution_count": 24,
   "metadata": {},
   "outputs": [
    {
     "data": {
      "text/plain": [
       "2014-08-01    0.567368\n",
       "2014-08-02    0.418257\n",
       "dtype: float64"
      ]
     },
     "execution_count": 24,
     "metadata": {},
     "output_type": "execute_result"
    }
   ],
   "source": [
    "# 只有index为datetimeindex类型才有如下操作\n",
    "df['2014-08']"
   ]
  },
  {
   "cell_type": "code",
   "execution_count": 29,
   "metadata": {},
   "outputs": [
    {
     "data": {
      "text/plain": [
       "DatetimeIndex(['2017-09-01', '2016-05-18', '2019-04-23', 'NaT'], dtype='datetime64[ns]', freq=None)"
      ]
     },
     "execution_count": 29,
     "metadata": {},
     "output_type": "execute_result"
    }
   ],
   "source": [
    "# 将字符串变成Datetimeindex \n",
    "date_time = pd.to_datetime(['2017/09/01','2016-05-18','2019.04.23',None])\n",
    "date_time"
   ]
  },
  {
   "cell_type": "code",
   "execution_count": 33,
   "metadata": {},
   "outputs": [
    {
     "data": {
      "text/plain": [
       "2019-08-03    0.893735\n",
       "2019-08-04    0.573717\n",
       "2019-08-05    0.761732\n",
       "2019-08-06    0.108297\n",
       "2019-08-07    0.737372\n",
       "2019-08-08    0.740448\n",
       "2019-08-09    0.611466\n",
       "2019-08-10    0.835346\n",
       "2019-08-11    0.665227\n",
       "2019-08-12    0.478833\n",
       "Freq: D, dtype: float64"
      ]
     },
     "execution_count": 33,
     "metadata": {},
     "output_type": "execute_result"
    }
   ],
   "source": [
    "dates = pd.date_range('2019-08-03',periods=10,freq='D')\n",
    "df = pd.Series(np.random.random(10),index=dates)\n",
    "df"
   ]
  },
  {
   "cell_type": "code",
   "execution_count": 34,
   "metadata": {},
   "outputs": [
    {
     "data": {
      "text/plain": [
       "pandas.core.indexes.datetimes.DatetimeIndex"
      ]
     },
     "execution_count": 34,
     "metadata": {},
     "output_type": "execute_result"
    }
   ],
   "source": [
    "type(dates)  # 可以看出date_range输出类型为datetimeindex"
   ]
  },
  {
   "cell_type": "code",
   "execution_count": 36,
   "metadata": {},
   "outputs": [
    {
     "data": {
      "text/plain": [
       "PeriodIndex(['2017-01-01', '2017-01-02', '2017-01-03', '2017-01-04',\n",
       "             '2017-01-05', '2017-01-06', '2017-01-07', '2017-01-08',\n",
       "             '2017-01-09', '2017-01-10', '2017-01-11', '2017-01-12',\n",
       "             '2017-01-13', '2017-01-14', '2017-01-15', '2017-01-16',\n",
       "             '2017-01-17', '2017-01-18', '2017-01-19', '2017-01-20',\n",
       "             '2017-01-21', '2017-01-22', '2017-01-23', '2017-01-24',\n",
       "             '2017-01-25', '2017-01-26', '2017-01-27', '2017-01-28',\n",
       "             '2017-01-29', '2017-01-30'],\n",
       "            dtype='period[D]', freq='D')"
      ]
     },
     "execution_count": 36,
     "metadata": {},
     "output_type": "execute_result"
    }
   ],
   "source": [
    "df = pd.period_range('2017-01-01',periods=30,freq='D')"
   ]
  },
  {
   "cell_type": "code",
   "execution_count": 38,
   "metadata": {},
   "outputs": [
    {
     "data": {
      "text/plain": [
       "pandas.core.indexes.datetimes.DatetimeIndex"
      ]
     },
     "execution_count": 38,
     "metadata": {},
     "output_type": "execute_result"
    }
   ],
   "source": [
    "type(df.index)"
   ]
  },
  {
   "cell_type": "code",
   "execution_count": 39,
   "metadata": {},
   "outputs": [
    {
     "data": {
      "text/plain": [
       "DatetimeIndex(['2017-01-31', '2017-02-28', '2017-03-31', '2017-04-30',\n",
       "               '2017-05-31', '2017-06-30', '2017-07-31', '2017-08-31',\n",
       "               '2017-09-30', '2017-10-31', '2017-11-30', '2017-12-31'],\n",
       "              dtype='datetime64[ns]', freq='M')"
      ]
     },
     "execution_count": 39,
     "metadata": {},
     "output_type": "execute_result"
    }
   ],
   "source": [
    "# period对象起始时间和终止时间\n",
    "time_period2 = pd.date_range('2017-01-01',periods=12,freq='M')\n",
    "time_period2"
   ]
  },
  {
   "cell_type": "code",
   "execution_count": 40,
   "metadata": {},
   "outputs": [
    {
     "data": {
      "text/plain": [
       "PeriodIndex(['2017-01', '2017-02', '2017-03', '2017-04', '2017-05', '2017-06',\n",
       "             '2017-07', '2017-08', '2017-09', '2017-10', '2017-11', '2017-12'],\n",
       "            dtype='period[M]', freq='M')"
      ]
     },
     "execution_count": 40,
     "metadata": {},
     "output_type": "execute_result"
    }
   ],
   "source": [
    "time_period3 = pd.period_range('1/1/2017','12/31/2017',freq='M')\n",
    "time_period3"
   ]
  },
  {
   "cell_type": "code",
   "execution_count": 41,
   "metadata": {},
   "outputs": [
    {
     "data": {
      "text/plain": [
       "PeriodIndex(['2017-01-01', '2017-01-02', '2017-01-03', '2017-01-04',\n",
       "             '2017-01-05', '2017-01-06', '2017-01-07', '2017-01-08',\n",
       "             '2017-01-09', '2017-01-10',\n",
       "             ...\n",
       "             '2017-12-22', '2017-12-23', '2017-12-24', '2017-12-25',\n",
       "             '2017-12-26', '2017-12-27', '2017-12-28', '2017-12-29',\n",
       "             '2017-12-30', '2017-12-31'],\n",
       "            dtype='period[D]', length=365, freq='D')"
      ]
     },
     "execution_count": 41,
     "metadata": {},
     "output_type": "execute_result"
    }
   ],
   "source": [
    "time_period4 = pd.period_range('1/1/2017','12/31/2017',freq='D')\n",
    "time_period4"
   ]
  },
  {
   "cell_type": "code",
   "execution_count": 43,
   "metadata": {},
   "outputs": [
    {
     "data": {
      "text/plain": [
       "PeriodIndex(['2017-02', '2017-03', '2017-04', '2017-05', '2017-06', '2017-07',\n",
       "             '2017-08', '2017-09', '2017-10', '2017-11', '2017-12', '2018-01'],\n",
       "            dtype='period[M]', freq='M')"
      ]
     },
     "execution_count": 43,
     "metadata": {},
     "output_type": "execute_result"
    }
   ],
   "source": [
    "# period对象的起始时间和终止时间\n",
    "time_period3 + 1"
   ]
  },
  {
   "cell_type": "code",
   "execution_count": 47,
   "metadata": {},
   "outputs": [
    {
     "data": {
      "text/plain": [
       "2017-01    0.807161\n",
       "2017-02    0.552210\n",
       "2017-03    0.600293\n",
       "2017-04    0.566980\n",
       "2017-05    0.624554\n",
       "2017-06    0.783985\n",
       "2017-07    0.461965\n",
       "2017-08    0.580079\n",
       "2017-09    0.541170\n",
       "2017-10    0.106478\n",
       "2017-11    0.742157\n",
       "2017-12    0.026795\n",
       "Freq: M, dtype: float64"
      ]
     },
     "execution_count": 47,
     "metadata": {},
     "output_type": "execute_result"
    }
   ],
   "source": [
    "# 应用案例\n",
    "import tushare as ts\n",
    "\n",
    "period_index = pd.period_range('1/1/2017','12/31/2017',freq='M')\n",
    "\n",
    "ps = pd.Series(np.random.random(12),index=period_index)\n",
    "ps"
   ]
  },
  {
   "cell_type": "code",
   "execution_count": null,
   "metadata": {},
   "outputs": [],
   "source": []
  },
  {
   "cell_type": "code",
   "execution_count": null,
   "metadata": {},
   "outputs": [],
   "source": []
  }
 ],
 "metadata": {
  "kernelspec": {
   "display_name": "Python 3",
   "language": "python",
   "name": "python3"
  },
  "language_info": {
   "codemirror_mode": {
    "name": "ipython",
    "version": 3
   },
   "file_extension": ".py",
   "mimetype": "text/x-python",
   "name": "python",
   "nbconvert_exporter": "python",
   "pygments_lexer": "ipython3",
   "version": "3.7.6"
  }
 },
 "nbformat": 4,
 "nbformat_minor": 4
}
