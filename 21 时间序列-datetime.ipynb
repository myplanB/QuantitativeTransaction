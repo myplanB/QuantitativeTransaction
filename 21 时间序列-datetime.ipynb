{
 "cells": [
  {
   "cell_type": "code",
   "execution_count": 1,
   "metadata": {},
   "outputs": [],
   "source": [
    "import numpy as np\n",
    "import pandas as pd\n",
    "import matplotlib.pyplot as plt\n",
    "%matplotlib inline\n",
    "import warnings;\n",
    "warnings.simplefilter('ignore')"
   ]
  },
  {
   "cell_type": "code",
   "execution_count": 2,
   "metadata": {},
   "outputs": [
    {
     "name": "stdout",
     "output_type": "stream",
     "text": [
      "2020-06-24 16:19:37.893001\n",
      "<class 'datetime.datetime'>\n"
     ]
    }
   ],
   "source": [
    "#1、 python下的日期格式\n",
    "import datetime\n",
    "\n",
    "# datetime，日期格式\n",
    "# timedelta 时间差\n",
    "\n",
    "now = datetime.datetime.now()\n",
    "print(now)\n",
    "print(type(now))"
   ]
  },
  {
   "cell_type": "code",
   "execution_count": 3,
   "metadata": {},
   "outputs": [
    {
     "name": "stdout",
     "output_type": "stream",
     "text": [
      "2020年6月24日\n"
     ]
    }
   ],
   "source": [
    "#2、 时间格式化\n",
    "print('{}年{}月{}日'.format(now.year,now.month,now.day))"
   ]
  },
  {
   "cell_type": "code",
   "execution_count": 4,
   "metadata": {},
   "outputs": [
    {
     "data": {
      "text/plain": [
       "datetime.timedelta(days=1058, seconds=58779, microseconds=839097)"
      ]
     },
     "execution_count": 4,
     "metadata": {},
     "output_type": "execute_result"
    }
   ],
   "source": [
    "# 3、计算时间差\n",
    "datetime.datetime.now() - datetime.datetime(2017,8,1)"
   ]
  },
  {
   "cell_type": "code",
   "execution_count": 5,
   "metadata": {},
   "outputs": [
    {
     "data": {
      "text/plain": [
       "datetime.datetime(2017, 8, 19, 0, 0)"
      ]
     },
     "execution_count": 5,
     "metadata": {},
     "output_type": "execute_result"
    }
   ],
   "source": [
    "# 4、时间格式转换\n",
    "dt_time = datetime.datetime(2017,8,19)\n",
    "dt_time"
   ]
  },
  {
   "cell_type": "code",
   "execution_count": 6,
   "metadata": {},
   "outputs": [
    {
     "data": {
      "text/plain": [
       "datetime.datetime(2017, 6, 18, 21, 45)"
      ]
     },
     "execution_count": 6,
     "metadata": {},
     "output_type": "execute_result"
    }
   ],
   "source": [
    "datetime.datetime(2017,6,18,21,45)"
   ]
  },
  {
   "cell_type": "code",
   "execution_count": 7,
   "metadata": {},
   "outputs": [
    {
     "data": {
      "text/plain": [
       "'19/08/2017'"
      ]
     },
     "execution_count": 7,
     "metadata": {},
     "output_type": "execute_result"
    }
   ],
   "source": [
    "# 变化格式\n",
    "str_time = dt_time.strftime('%d/%m/%Y')\n",
    "str_time"
   ]
  },
  {
   "cell_type": "code",
   "execution_count": 8,
   "metadata": {},
   "outputs": [
    {
     "name": "stdout",
     "output_type": "stream",
     "text": [
      "<class 'datetime.datetime'>\n",
      "2017-06-18 00:00:00\n"
     ]
    }
   ],
   "source": [
    "# 将字符串变成datetime有3种方式：\n",
    "# 方法1 \n",
    "dt_str = '2017-06-18'\n",
    "dt_time = datetime.datetime.strptime(dt_str,'%Y-%m-%d')\n",
    "print(type(dt_time))\n",
    "print(dt_time)"
   ]
  },
  {
   "cell_type": "code",
   "execution_count": 9,
   "metadata": {},
   "outputs": [
    {
     "name": "stdout",
     "output_type": "stream",
     "text": [
      "<class 'datetime.datetime'>\n",
      "2017-06-18 00:00:00\n"
     ]
    }
   ],
   "source": [
    "# 方法2 \n",
    "from dateutil.parser import parse\n",
    "dt_str2 = '18-06-17'\n",
    "dt_time2 = parse(dt_str2)\n",
    "print(type(dt_time2))\n",
    "print(dt_time2)"
   ]
  },
  {
   "cell_type": "code",
   "execution_count": 10,
   "metadata": {},
   "outputs": [
    {
     "data": {
      "text/plain": [
       "0    2017-06-18\n",
       "1    2017-06-19\n",
       "2    2017-06-20\n",
       "3    2017-06-21\n",
       "Name: Course_time, dtype: object"
      ]
     },
     "execution_count": 10,
     "metadata": {},
     "output_type": "execute_result"
    }
   ],
   "source": [
    "# 方法3 使用pandas\n",
    "import pandas as pd\n",
    "str_time = pd.Series(['2017-06-18','2017-06-19','2017-06-20','2017-06-21'],name='Course_time')\n",
    "str_time"
   ]
  },
  {
   "cell_type": "code",
   "execution_count": 11,
   "metadata": {},
   "outputs": [],
   "source": [
    "dt_time = pd.to_datetime(str_time)"
   ]
  },
  {
   "cell_type": "code",
   "execution_count": 12,
   "metadata": {},
   "outputs": [
    {
     "data": {
      "text/plain": [
       "0   2017-06-18\n",
       "1   2017-06-19\n",
       "2   2017-06-20\n",
       "3   2017-06-21\n",
       "Name: Course_time, dtype: datetime64[ns]"
      ]
     },
     "execution_count": 12,
     "metadata": {},
     "output_type": "execute_result"
    }
   ],
   "source": [
    "dt_time"
   ]
  },
  {
   "cell_type": "code",
   "execution_count": 13,
   "metadata": {},
   "outputs": [],
   "source": [
    "# 5、pandas金融数据时间格式\n",
    "# datetimeindex 时间索引的格式\n",
    "import datetime\n",
    "dates = [datetime.datetime(2014,8,1),datetime.datetime(2014,8,2)]"
   ]
  },
  {
   "cell_type": "code",
   "execution_count": 14,
   "metadata": {},
   "outputs": [
    {
     "data": {
      "text/plain": [
       "DatetimeIndex(['2014-08-01', '2014-08-02'], dtype='datetime64[ns]', freq=None)"
      ]
     },
     "execution_count": 14,
     "metadata": {},
     "output_type": "execute_result"
    }
   ],
   "source": [
    "# 输入参数必须为datetimeindex类型\n",
    "df = pd.DatetimeIndex(dates)\n",
    "df"
   ]
  },
  {
   "cell_type": "code",
   "execution_count": 15,
   "metadata": {},
   "outputs": [
    {
     "data": {
      "text/plain": [
       "2014-08-01    0.632966\n",
       "2014-08-02    0.029653\n",
       "dtype: float64"
      ]
     },
     "execution_count": 15,
     "metadata": {},
     "output_type": "execute_result"
    }
   ],
   "source": [
    "df = pd.Series(np.random.random(2),index=dates)\n",
    "df"
   ]
  },
  {
   "cell_type": "code",
   "execution_count": 16,
   "metadata": {},
   "outputs": [
    {
     "data": {
      "text/plain": [
       "DatetimeIndex(['2014-08-01', '2014-08-02'], dtype='datetime64[ns]', freq=None)"
      ]
     },
     "execution_count": 16,
     "metadata": {},
     "output_type": "execute_result"
    }
   ],
   "source": [
    "df.index"
   ]
  },
  {
   "cell_type": "code",
   "execution_count": 17,
   "metadata": {},
   "outputs": [
    {
     "data": {
      "text/plain": [
       "Timestamp('2014-08-01 00:00:00')"
      ]
     },
     "execution_count": 17,
     "metadata": {},
     "output_type": "execute_result"
    }
   ],
   "source": [
    "df.index[0]  # timestamp类型"
   ]
  },
  {
   "cell_type": "code",
   "execution_count": 18,
   "metadata": {},
   "outputs": [
    {
     "data": {
      "text/plain": [
       "0.02965253953925051"
      ]
     },
     "execution_count": 18,
     "metadata": {},
     "output_type": "execute_result"
    }
   ],
   "source": [
    "# Datetimeindex 只有index为datetimeindex类型才有如下操作\n",
    "df['2014-08-02']"
   ]
  },
  {
   "cell_type": "code",
   "execution_count": 19,
   "metadata": {},
   "outputs": [
    {
     "data": {
      "text/plain": [
       "2014-08-01    0.632966\n",
       "2014-08-02    0.029653\n",
       "dtype: float64"
      ]
     },
     "execution_count": 19,
     "metadata": {},
     "output_type": "execute_result"
    }
   ],
   "source": [
    "# 只有index为datetimeindex类型才有如下操作\n",
    "df['2014']"
   ]
  },
  {
   "cell_type": "code",
   "execution_count": 20,
   "metadata": {},
   "outputs": [
    {
     "data": {
      "text/plain": [
       "2014-08-01    0.632966\n",
       "2014-08-02    0.029653\n",
       "dtype: float64"
      ]
     },
     "execution_count": 20,
     "metadata": {},
     "output_type": "execute_result"
    }
   ],
   "source": [
    "# 只有index为datetimeindex类型才有如下操作\n",
    "df['2014-08']"
   ]
  },
  {
   "cell_type": "code",
   "execution_count": 21,
   "metadata": {},
   "outputs": [
    {
     "data": {
      "text/plain": [
       "DatetimeIndex(['2017-09-01', '2016-05-18', '2019-04-23', 'NaT'], dtype='datetime64[ns]', freq=None)"
      ]
     },
     "execution_count": 21,
     "metadata": {},
     "output_type": "execute_result"
    }
   ],
   "source": [
    "# 将字符串变成Datetimeindex \n",
    "date_time = pd.to_datetime(['2017/09/01','2016-05-18','2019.04.23',None])\n",
    "date_time"
   ]
  },
  {
   "cell_type": "code",
   "execution_count": 22,
   "metadata": {},
   "outputs": [
    {
     "data": {
      "text/plain": [
       "2019-08-03    0.154400\n",
       "2019-08-04    0.067267\n",
       "2019-08-05    0.050077\n",
       "2019-08-06    0.797813\n",
       "2019-08-07    0.402327\n",
       "2019-08-08    0.884949\n",
       "2019-08-09    0.202094\n",
       "2019-08-10    0.525336\n",
       "2019-08-11    0.375346\n",
       "2019-08-12    0.178522\n",
       "Freq: D, dtype: float64"
      ]
     },
     "execution_count": 22,
     "metadata": {},
     "output_type": "execute_result"
    }
   ],
   "source": [
    "dates = pd.date_range('2019-08-03',periods=10,freq='D')\n",
    "df = pd.Series(np.random.random(10),index=dates)\n",
    "df"
   ]
  },
  {
   "cell_type": "code",
   "execution_count": 23,
   "metadata": {},
   "outputs": [
    {
     "data": {
      "text/plain": [
       "pandas.core.indexes.datetimes.DatetimeIndex"
      ]
     },
     "execution_count": 23,
     "metadata": {},
     "output_type": "execute_result"
    }
   ],
   "source": [
    "type(dates)  # 可以看出date_range输出类型为datetimeindex"
   ]
  },
  {
   "cell_type": "code",
   "execution_count": 24,
   "metadata": {},
   "outputs": [],
   "source": [
    "df = pd.period_range('2017-01-01',periods=30,freq='D')"
   ]
  },
  {
   "cell_type": "code",
   "execution_count": 25,
   "metadata": {},
   "outputs": [
    {
     "ename": "AttributeError",
     "evalue": "'PeriodIndex' object has no attribute 'index'",
     "output_type": "error",
     "traceback": [
      "\u001b[1;31m---------------------------------------------------------------------------\u001b[0m",
      "\u001b[1;31mAttributeError\u001b[0m                            Traceback (most recent call last)",
      "\u001b[1;32m<ipython-input-25-a80933c4a4c1>\u001b[0m in \u001b[0;36m<module>\u001b[1;34m\u001b[0m\n\u001b[1;32m----> 1\u001b[1;33m \u001b[0mtype\u001b[0m\u001b[1;33m(\u001b[0m\u001b[0mdf\u001b[0m\u001b[1;33m.\u001b[0m\u001b[0mindex\u001b[0m\u001b[1;33m)\u001b[0m\u001b[1;33m\u001b[0m\u001b[1;33m\u001b[0m\u001b[0m\n\u001b[0m",
      "\u001b[1;31mAttributeError\u001b[0m: 'PeriodIndex' object has no attribute 'index'"
     ]
    }
   ],
   "source": [
    "type(df.index)"
   ]
  },
  {
   "cell_type": "code",
   "execution_count": 26,
   "metadata": {},
   "outputs": [
    {
     "data": {
      "text/plain": [
       "DatetimeIndex(['2017-01-31', '2017-02-28', '2017-03-31', '2017-04-30',\n",
       "               '2017-05-31', '2017-06-30', '2017-07-31', '2017-08-31',\n",
       "               '2017-09-30', '2017-10-31', '2017-11-30', '2017-12-31'],\n",
       "              dtype='datetime64[ns]', freq='M')"
      ]
     },
     "execution_count": 26,
     "metadata": {},
     "output_type": "execute_result"
    }
   ],
   "source": [
    "# period对象起始时间和终止时间\n",
    "time_period2 = pd.date_range('2017-01-01',periods=12,freq='M')\n",
    "time_period2"
   ]
  },
  {
   "cell_type": "code",
   "execution_count": 27,
   "metadata": {},
   "outputs": [
    {
     "data": {
      "text/plain": [
       "PeriodIndex(['2017-01', '2017-02', '2017-03', '2017-04', '2017-05', '2017-06',\n",
       "             '2017-07', '2017-08', '2017-09', '2017-10', '2017-11', '2017-12'],\n",
       "            dtype='period[M]', freq='M')"
      ]
     },
     "execution_count": 27,
     "metadata": {},
     "output_type": "execute_result"
    }
   ],
   "source": [
    "time_period3 = pd.period_range('1/1/2017','12/31/2017',freq='M')\n",
    "time_period3"
   ]
  },
  {
   "cell_type": "code",
   "execution_count": 28,
   "metadata": {},
   "outputs": [
    {
     "data": {
      "text/plain": [
       "PeriodIndex(['2017-01-01', '2017-01-02', '2017-01-03', '2017-01-04',\n",
       "             '2017-01-05', '2017-01-06', '2017-01-07', '2017-01-08',\n",
       "             '2017-01-09', '2017-01-10',\n",
       "             ...\n",
       "             '2017-12-22', '2017-12-23', '2017-12-24', '2017-12-25',\n",
       "             '2017-12-26', '2017-12-27', '2017-12-28', '2017-12-29',\n",
       "             '2017-12-30', '2017-12-31'],\n",
       "            dtype='period[D]', length=365, freq='D')"
      ]
     },
     "execution_count": 28,
     "metadata": {},
     "output_type": "execute_result"
    }
   ],
   "source": [
    "time_period4 = pd.period_range('1/1/2017','12/31/2017',freq='D')\n",
    "time_period4"
   ]
  },
  {
   "cell_type": "code",
   "execution_count": 29,
   "metadata": {},
   "outputs": [
    {
     "data": {
      "text/plain": [
       "PeriodIndex(['2017-02', '2017-03', '2017-04', '2017-05', '2017-06', '2017-07',\n",
       "             '2017-08', '2017-09', '2017-10', '2017-11', '2017-12', '2018-01'],\n",
       "            dtype='period[M]', freq='M')"
      ]
     },
     "execution_count": 29,
     "metadata": {},
     "output_type": "execute_result"
    }
   ],
   "source": [
    "# period对象的起始时间和终止时间\n",
    "time_period3 + 1"
   ]
  },
  {
   "cell_type": "code",
   "execution_count": 32,
   "metadata": {},
   "outputs": [
    {
     "data": {
      "text/plain": [
       "2017-01    0.845340\n",
       "2017-02    0.858989\n",
       "2017-03    0.378235\n",
       "2017-04    0.029814\n",
       "2017-05    0.722175\n",
       "2017-06    0.918419\n",
       "2017-07    0.553351\n",
       "2017-08    0.383357\n",
       "2017-09    0.315175\n",
       "2017-10    0.088403\n",
       "2017-11    0.528005\n",
       "2017-12    0.644825\n",
       "Freq: M, dtype: float64"
      ]
     },
     "execution_count": 32,
     "metadata": {},
     "output_type": "execute_result"
    }
   ],
   "source": [
    "# 应用案例\n",
    "#!pip install tushare\n",
    "import tushare as ts\n",
    "\n",
    "period_index = pd.period_range('1/1/2017','12/31/2017',freq='M')\n",
    "\n",
    "ps = pd.Series(np.random.random(12),index=period_index)\n",
    "ps"
   ]
  },
  {
   "cell_type": "code",
   "execution_count": 33,
   "metadata": {},
   "outputs": [
    {
     "name": "stdout",
     "output_type": "stream",
     "text": [
      "本接口即将停止更新，请尽快使用Pro版接口：https://tushare.pro/document/2\n"
     ]
    },
    {
     "data": {
      "text/html": [
       "<div>\n",
       "<style scoped>\n",
       "    .dataframe tbody tr th:only-of-type {\n",
       "        vertical-align: middle;\n",
       "    }\n",
       "\n",
       "    .dataframe tbody tr th {\n",
       "        vertical-align: top;\n",
       "    }\n",
       "\n",
       "    .dataframe thead th {\n",
       "        text-align: right;\n",
       "    }\n",
       "</style>\n",
       "<table border=\"1\" class=\"dataframe\">\n",
       "  <thead>\n",
       "    <tr style=\"text-align: right;\">\n",
       "      <th></th>\n",
       "      <th>open</th>\n",
       "      <th>close</th>\n",
       "      <th>high</th>\n",
       "      <th>low</th>\n",
       "      <th>volume</th>\n",
       "      <th>code</th>\n",
       "    </tr>\n",
       "    <tr>\n",
       "      <th>date</th>\n",
       "      <th></th>\n",
       "      <th></th>\n",
       "      <th></th>\n",
       "      <th></th>\n",
       "      <th></th>\n",
       "      <th></th>\n",
       "    </tr>\n",
       "  </thead>\n",
       "  <tbody>\n",
       "    <tr>\n",
       "      <th>2015-01-05</th>\n",
       "      <td>10.518</td>\n",
       "      <td>10.538</td>\n",
       "      <td>10.709</td>\n",
       "      <td>10.261</td>\n",
       "      <td>2860436.0</td>\n",
       "      <td>000001</td>\n",
       "    </tr>\n",
       "    <tr>\n",
       "      <th>2015-01-06</th>\n",
       "      <td>10.426</td>\n",
       "      <td>10.380</td>\n",
       "      <td>10.781</td>\n",
       "      <td>10.229</td>\n",
       "      <td>2166421.0</td>\n",
       "      <td>000001</td>\n",
       "    </tr>\n",
       "    <tr>\n",
       "      <th>2015-01-07</th>\n",
       "      <td>10.235</td>\n",
       "      <td>10.182</td>\n",
       "      <td>10.413</td>\n",
       "      <td>10.064</td>\n",
       "      <td>1700120.0</td>\n",
       "      <td>000001</td>\n",
       "    </tr>\n",
       "    <tr>\n",
       "      <th>2015-01-08</th>\n",
       "      <td>10.196</td>\n",
       "      <td>9.840</td>\n",
       "      <td>10.242</td>\n",
       "      <td>9.801</td>\n",
       "      <td>1407714.0</td>\n",
       "      <td>000001</td>\n",
       "    </tr>\n",
       "    <tr>\n",
       "      <th>2015-01-09</th>\n",
       "      <td>9.801</td>\n",
       "      <td>9.919</td>\n",
       "      <td>10.439</td>\n",
       "      <td>9.676</td>\n",
       "      <td>2508500.0</td>\n",
       "      <td>000001</td>\n",
       "    </tr>\n",
       "  </tbody>\n",
       "</table>\n",
       "</div>"
      ],
      "text/plain": [
       "              open   close    high     low     volume    code\n",
       "date                                                         \n",
       "2015-01-05  10.518  10.538  10.709  10.261  2860436.0  000001\n",
       "2015-01-06  10.426  10.380  10.781  10.229  2166421.0  000001\n",
       "2015-01-07  10.235  10.182  10.413  10.064  1700120.0  000001\n",
       "2015-01-08  10.196   9.840  10.242   9.801  1407714.0  000001\n",
       "2015-01-09   9.801   9.919  10.439   9.676  2508500.0  000001"
      ]
     },
     "execution_count": 33,
     "metadata": {},
     "output_type": "execute_result"
    }
   ],
   "source": [
    "# 计算收盘价百分比\n",
    "import tushare as ts\n",
    "import pandas as pd\n",
    "data = ts.get_k_data('000001','2015-01-01','2016-12-30')\n",
    "data.index = pd.to_datetime(data['date'])\n",
    "del data['date']  # 删除date列，并将date设置为索引\n",
    "data.head(5)"
   ]
  },
  {
   "cell_type": "code",
   "execution_count": 34,
   "metadata": {},
   "outputs": [
    {
     "data": {
      "text/plain": [
       "date\n",
       "2015-01-05    10.538\n",
       "2015-01-06    10.380\n",
       "2015-01-07    10.182\n",
       "2015-01-08     9.840\n",
       "2015-01-09     9.919\n",
       "Name: close, dtype: float64"
      ]
     },
     "execution_count": 34,
     "metadata": {},
     "output_type": "execute_result"
    }
   ],
   "source": [
    "data_close_price = data['close']\n",
    "data_close_price.head(5)"
   ]
  },
  {
   "cell_type": "code",
   "execution_count": 35,
   "metadata": {},
   "outputs": [
    {
     "data": {
      "text/plain": [
       "date\n",
       "2016-01-04    8.995\n",
       "2016-01-05    9.075\n",
       "Name: close, dtype: float64"
      ]
     },
     "execution_count": 35,
     "metadata": {},
     "output_type": "execute_result"
    }
   ],
   "source": [
    "data_close_price['2016-01-01':'2016-01-05']"
   ]
  },
  {
   "cell_type": "code",
   "execution_count": 36,
   "metadata": {},
   "outputs": [
    {
     "data": {
      "text/plain": [
       "open       9.553\n",
       "close      8.995\n",
       "high       9.577\n",
       "low         8.94\n",
       "volume    563497\n",
       "code      000001\n",
       "Name: 2016-01-04 00:00:00, dtype: object"
      ]
     },
     "execution_count": 36,
     "metadata": {},
     "output_type": "execute_result"
    }
   ],
   "source": [
    "data.loc['2016-01-04']"
   ]
  },
  {
   "cell_type": "code",
   "execution_count": 37,
   "metadata": {},
   "outputs": [
    {
     "name": "stdout",
     "output_type": "stream",
     "text": [
      "<class 'pandas.core.frame.DataFrame'>\n",
      "DatetimeIndex: 488 entries, 2015-01-05 to 2016-12-30\n",
      "Data columns (total 6 columns):\n",
      " #   Column  Non-Null Count  Dtype  \n",
      "---  ------  --------------  -----  \n",
      " 0   open    488 non-null    float64\n",
      " 1   close   488 non-null    float64\n",
      " 2   high    488 non-null    float64\n",
      " 3   low     488 non-null    float64\n",
      " 4   volume  488 non-null    float64\n",
      " 5   code    488 non-null    object \n",
      "dtypes: float64(5), object(1)\n",
      "memory usage: 46.7+ KB\n"
     ]
    }
   ],
   "source": [
    "data.info()"
   ]
  },
  {
   "cell_type": "code",
   "execution_count": 38,
   "metadata": {},
   "outputs": [
    {
     "data": {
      "text/html": [
       "<div>\n",
       "<style scoped>\n",
       "    .dataframe tbody tr th:only-of-type {\n",
       "        vertical-align: middle;\n",
       "    }\n",
       "\n",
       "    .dataframe tbody tr th {\n",
       "        vertical-align: top;\n",
       "    }\n",
       "\n",
       "    .dataframe thead th {\n",
       "        text-align: right;\n",
       "    }\n",
       "</style>\n",
       "<table border=\"1\" class=\"dataframe\">\n",
       "  <thead>\n",
       "    <tr style=\"text-align: right;\">\n",
       "      <th></th>\n",
       "      <th>open</th>\n",
       "      <th>close</th>\n",
       "      <th>high</th>\n",
       "      <th>low</th>\n",
       "      <th>volume</th>\n",
       "      <th>code</th>\n",
       "    </tr>\n",
       "    <tr>\n",
       "      <th>date</th>\n",
       "      <th></th>\n",
       "      <th></th>\n",
       "      <th></th>\n",
       "      <th></th>\n",
       "      <th></th>\n",
       "      <th></th>\n",
       "    </tr>\n",
       "  </thead>\n",
       "  <tbody>\n",
       "    <tr>\n",
       "      <th>2015-01-05</th>\n",
       "      <td>10.518</td>\n",
       "      <td>10.538</td>\n",
       "      <td>10.709</td>\n",
       "      <td>10.261</td>\n",
       "      <td>2860436.0</td>\n",
       "      <td>000001</td>\n",
       "    </tr>\n",
       "    <tr>\n",
       "      <th>2015-01-06</th>\n",
       "      <td>10.426</td>\n",
       "      <td>10.380</td>\n",
       "      <td>10.781</td>\n",
       "      <td>10.229</td>\n",
       "      <td>2166421.0</td>\n",
       "      <td>000001</td>\n",
       "    </tr>\n",
       "    <tr>\n",
       "      <th>2015-01-07</th>\n",
       "      <td>10.235</td>\n",
       "      <td>10.182</td>\n",
       "      <td>10.413</td>\n",
       "      <td>10.064</td>\n",
       "      <td>1700120.0</td>\n",
       "      <td>000001</td>\n",
       "    </tr>\n",
       "    <tr>\n",
       "      <th>2015-01-08</th>\n",
       "      <td>10.196</td>\n",
       "      <td>9.840</td>\n",
       "      <td>10.242</td>\n",
       "      <td>9.801</td>\n",
       "      <td>1407714.0</td>\n",
       "      <td>000001</td>\n",
       "    </tr>\n",
       "    <tr>\n",
       "      <th>2015-01-09</th>\n",
       "      <td>9.801</td>\n",
       "      <td>9.919</td>\n",
       "      <td>10.439</td>\n",
       "      <td>9.676</td>\n",
       "      <td>2508500.0</td>\n",
       "      <td>000001</td>\n",
       "    </tr>\n",
       "  </tbody>\n",
       "</table>\n",
       "</div>"
      ],
      "text/plain": [
       "              open   close    high     low     volume    code\n",
       "date                                                         \n",
       "2015-01-05  10.518  10.538  10.709  10.261  2860436.0  000001\n",
       "2015-01-06  10.426  10.380  10.781  10.229  2166421.0  000001\n",
       "2015-01-07  10.235  10.182  10.413  10.064  1700120.0  000001\n",
       "2015-01-08  10.196   9.840  10.242   9.801  1407714.0  000001\n",
       "2015-01-09   9.801   9.919  10.439   9.676  2508500.0  000001"
      ]
     },
     "execution_count": 38,
     "metadata": {},
     "output_type": "execute_result"
    }
   ],
   "source": [
    "# 时间数据的聚合\n",
    "sample = data.head(5)\n",
    "sample"
   ]
  },
  {
   "cell_type": "code",
   "execution_count": 39,
   "metadata": {},
   "outputs": [
    {
     "data": {
      "text/plain": [
       "date\n",
       "2015-01-05         NaN\n",
       "2015-01-06    0.985007\n",
       "2015-01-07    0.966217\n",
       "2015-01-08    0.933764\n",
       "2015-01-09    0.941260\n",
       "Name: close, dtype: float64"
      ]
     },
     "execution_count": 39,
     "metadata": {},
     "output_type": "execute_result"
    }
   ],
   "source": [
    "# data_close_price/data_close_price.shift()-1 所有收盘价的收益率\n",
    "cum_return = (1+(data_close_price/data_close_price.shift()-1)).cumprod()\n",
    "cum_return.head()"
   ]
  },
  {
   "cell_type": "code",
   "execution_count": 40,
   "metadata": {},
   "outputs": [
    {
     "data": {
      "text/plain": [
       "0.862181312076928"
      ]
     },
     "execution_count": 40,
     "metadata": {},
     "output_type": "execute_result"
    }
   ],
   "source": [
    "# 计算每日收益率的平均值\n",
    "cum_return['2015-02'].mean()"
   ]
  },
  {
   "cell_type": "code",
   "execution_count": 45,
   "metadata": {},
   "outputs": [
    {
     "data": {
      "text/plain": [
       "date\n",
       "2015-01-31    0.910924\n",
       "2015-02-28    0.862181\n",
       "2015-03-31    0.917895\n",
       "2015-04-30    1.193445\n",
       "2015-05-31    1.200807\n",
       "Freq: M, Name: close, dtype: float64"
      ]
     },
     "execution_count": 45,
     "metadata": {},
     "output_type": "execute_result"
    }
   ],
   "source": [
    "# 计算每日收益率的平均值2\n",
    "cum_return.resample('M').mean().head()"
   ]
  },
  {
   "cell_type": "code",
   "execution_count": 82,
   "metadata": {},
   "outputs": [
    {
     "data": {
      "text/html": [
       "<div>\n",
       "<style scoped>\n",
       "    .dataframe tbody tr th:only-of-type {\n",
       "        vertical-align: middle;\n",
       "    }\n",
       "\n",
       "    .dataframe tbody tr th {\n",
       "        vertical-align: top;\n",
       "    }\n",
       "\n",
       "    .dataframe thead th {\n",
       "        text-align: right;\n",
       "    }\n",
       "</style>\n",
       "<table border=\"1\" class=\"dataframe\">\n",
       "  <thead>\n",
       "    <tr style=\"text-align: right;\">\n",
       "      <th></th>\n",
       "      <th>open</th>\n",
       "      <th>high</th>\n",
       "      <th>low</th>\n",
       "      <th>close</th>\n",
       "    </tr>\n",
       "    <tr>\n",
       "      <th>date</th>\n",
       "      <th></th>\n",
       "      <th></th>\n",
       "      <th></th>\n",
       "      <th></th>\n",
       "    </tr>\n",
       "  </thead>\n",
       "  <tbody>\n",
       "    <tr>\n",
       "      <th>2015-01-31</th>\n",
       "      <td>0.985007</td>\n",
       "      <td>0.985007</td>\n",
       "      <td>0.863257</td>\n",
       "      <td>0.869520</td>\n",
       "    </tr>\n",
       "    <tr>\n",
       "      <th>2015-02-28</th>\n",
       "      <td>0.850826</td>\n",
       "      <td>0.878250</td>\n",
       "      <td>0.843329</td>\n",
       "      <td>0.873221</td>\n",
       "    </tr>\n",
       "    <tr>\n",
       "      <th>2015-03-31</th>\n",
       "      <td>0.875783</td>\n",
       "      <td>0.983109</td>\n",
       "      <td>0.835168</td>\n",
       "      <td>0.983109</td>\n",
       "    </tr>\n",
       "    <tr>\n",
       "      <th>2015-04-30</th>\n",
       "      <td>0.996204</td>\n",
       "      <td>1.284210</td>\n",
       "      <td>0.986240</td>\n",
       "      <td>1.261530</td>\n",
       "    </tr>\n",
       "    <tr>\n",
       "      <th>2015-05-31</th>\n",
       "      <td>1.247960</td>\n",
       "      <td>1.255456</td>\n",
       "      <td>1.146707</td>\n",
       "      <td>1.157335</td>\n",
       "    </tr>\n",
       "    <tr>\n",
       "      <th>2015-06-30</th>\n",
       "      <td>1.201082</td>\n",
       "      <td>1.306130</td>\n",
       "      <td>1.024388</td>\n",
       "      <td>1.098406</td>\n",
       "    </tr>\n",
       "    <tr>\n",
       "      <th>2015-07-31</th>\n",
       "      <td>1.051528</td>\n",
       "      <td>1.122509</td>\n",
       "      <td>0.926172</td>\n",
       "      <td>0.933669</td>\n",
       "    </tr>\n",
       "    <tr>\n",
       "      <th>2015-08-31</th>\n",
       "      <td>0.968400</td>\n",
       "      <td>0.975992</td>\n",
       "      <td>0.714652</td>\n",
       "      <td>0.836212</td>\n",
       "    </tr>\n",
       "    <tr>\n",
       "      <th>2015-09-30</th>\n",
       "      <td>0.873980</td>\n",
       "      <td>0.894382</td>\n",
       "      <td>0.784115</td>\n",
       "      <td>0.792465</td>\n",
       "    </tr>\n",
       "    <tr>\n",
       "      <th>2015-10-31</th>\n",
       "      <td>0.808313</td>\n",
       "      <td>0.870279</td>\n",
       "      <td>0.808313</td>\n",
       "      <td>0.858132</td>\n",
       "    </tr>\n",
       "    <tr>\n",
       "      <th>2015-11-30</th>\n",
       "      <td>0.841526</td>\n",
       "      <td>0.977510</td>\n",
       "      <td>0.834693</td>\n",
       "      <td>0.886886</td>\n",
       "    </tr>\n",
       "    <tr>\n",
       "      <th>2015-12-31</th>\n",
       "      <td>0.887645</td>\n",
       "      <td>0.945056</td>\n",
       "      <td>0.887645</td>\n",
       "      <td>0.905770</td>\n",
       "    </tr>\n",
       "    <tr>\n",
       "      <th>2016-01-31</th>\n",
       "      <td>0.853578</td>\n",
       "      <td>0.871038</td>\n",
       "      <td>0.732017</td>\n",
       "      <td>0.755456</td>\n",
       "    </tr>\n",
       "    <tr>\n",
       "      <th>2016-02-29</th>\n",
       "      <td>0.740273</td>\n",
       "      <td>0.777282</td>\n",
       "      <td>0.722148</td>\n",
       "      <td>0.722148</td>\n",
       "    </tr>\n",
       "    <tr>\n",
       "      <th>2016-03-31</th>\n",
       "      <td>0.732777</td>\n",
       "      <td>0.815809</td>\n",
       "      <td>0.732777</td>\n",
       "      <td>0.803758</td>\n",
       "    </tr>\n",
       "    <tr>\n",
       "      <th>2016-04-30</th>\n",
       "      <td>0.805276</td>\n",
       "      <td>0.821883</td>\n",
       "      <td>0.793225</td>\n",
       "      <td>0.798444</td>\n",
       "    </tr>\n",
       "    <tr>\n",
       "      <th>2016-05-31</th>\n",
       "      <td>0.806794</td>\n",
       "      <td>0.809831</td>\n",
       "      <td>0.771304</td>\n",
       "      <td>0.796925</td>\n",
       "    </tr>\n",
       "    <tr>\n",
       "      <th>2016-06-30</th>\n",
       "      <td>0.791706</td>\n",
       "      <td>0.803378</td>\n",
       "      <td>0.780319</td>\n",
       "      <td>0.800626</td>\n",
       "    </tr>\n",
       "    <tr>\n",
       "      <th>2016-07-31</th>\n",
       "      <td>0.801480</td>\n",
       "      <td>0.846650</td>\n",
       "      <td>0.801480</td>\n",
       "      <td>0.846650</td>\n",
       "    </tr>\n",
       "    <tr>\n",
       "      <th>2016-08-31</th>\n",
       "      <td>0.853957</td>\n",
       "      <td>0.890776</td>\n",
       "      <td>0.827292</td>\n",
       "      <td>0.873316</td>\n",
       "    </tr>\n",
       "    <tr>\n",
       "      <th>2016-09-30</th>\n",
       "      <td>0.869615</td>\n",
       "      <td>0.869615</td>\n",
       "      <td>0.831847</td>\n",
       "      <td>0.834693</td>\n",
       "    </tr>\n",
       "    <tr>\n",
       "      <th>2016-10-31</th>\n",
       "      <td>0.839248</td>\n",
       "      <td>0.850256</td>\n",
       "      <td>0.832796</td>\n",
       "      <td>0.842000</td>\n",
       "    </tr>\n",
       "    <tr>\n",
       "      <th>2016-11-30</th>\n",
       "      <td>0.841051</td>\n",
       "      <td>0.886221</td>\n",
       "      <td>0.834693</td>\n",
       "      <td>0.878820</td>\n",
       "    </tr>\n",
       "    <tr>\n",
       "      <th>2016-12-31</th>\n",
       "      <td>0.883374</td>\n",
       "      <td>0.888024</td>\n",
       "      <td>0.833745</td>\n",
       "      <td>0.837445</td>\n",
       "    </tr>\n",
       "  </tbody>\n",
       "</table>\n",
       "</div>"
      ],
      "text/plain": [
       "                open      high       low     close\n",
       "date                                              \n",
       "2015-01-31  0.985007  0.985007  0.863257  0.869520\n",
       "2015-02-28  0.850826  0.878250  0.843329  0.873221\n",
       "2015-03-31  0.875783  0.983109  0.835168  0.983109\n",
       "2015-04-30  0.996204  1.284210  0.986240  1.261530\n",
       "2015-05-31  1.247960  1.255456  1.146707  1.157335\n",
       "2015-06-30  1.201082  1.306130  1.024388  1.098406\n",
       "2015-07-31  1.051528  1.122509  0.926172  0.933669\n",
       "2015-08-31  0.968400  0.975992  0.714652  0.836212\n",
       "2015-09-30  0.873980  0.894382  0.784115  0.792465\n",
       "2015-10-31  0.808313  0.870279  0.808313  0.858132\n",
       "2015-11-30  0.841526  0.977510  0.834693  0.886886\n",
       "2015-12-31  0.887645  0.945056  0.887645  0.905770\n",
       "2016-01-31  0.853578  0.871038  0.732017  0.755456\n",
       "2016-02-29  0.740273  0.777282  0.722148  0.722148\n",
       "2016-03-31  0.732777  0.815809  0.732777  0.803758\n",
       "2016-04-30  0.805276  0.821883  0.793225  0.798444\n",
       "2016-05-31  0.806794  0.809831  0.771304  0.796925\n",
       "2016-06-30  0.791706  0.803378  0.780319  0.800626\n",
       "2016-07-31  0.801480  0.846650  0.801480  0.846650\n",
       "2016-08-31  0.853957  0.890776  0.827292  0.873316\n",
       "2016-09-30  0.869615  0.869615  0.831847  0.834693\n",
       "2016-10-31  0.839248  0.850256  0.832796  0.842000\n",
       "2016-11-30  0.841051  0.886221  0.834693  0.878820\n",
       "2016-12-31  0.883374  0.888024  0.833745  0.837445"
      ]
     },
     "execution_count": 82,
     "metadata": {},
     "output_type": "execute_result"
    }
   ],
   "source": [
    "cum_return.resample('M').ohlc()"
   ]
  },
  {
   "cell_type": "code",
   "execution_count": 42,
   "metadata": {},
   "outputs": [
    {
     "data": {
      "text/plain": [
       "date\n",
       "2015-01-06    0.985007\n",
       "2015-01-07    0.966217\n",
       "Name: close, dtype: float64"
      ]
     },
     "execution_count": 42,
     "metadata": {},
     "output_type": "execute_result"
    }
   ],
   "source": [
    "sample2 = cum_return[1:3]\n",
    "sample2"
   ]
  },
  {
   "cell_type": "code",
   "execution_count": 49,
   "metadata": {},
   "outputs": [
    {
     "data": {
      "text/plain": [
       "<pandas.core.resample.DatetimeIndexResampler object at 0x000001BB6E4E3AC8>"
      ]
     },
     "execution_count": 49,
     "metadata": {},
     "output_type": "execute_result"
    }
   ],
   "source": [
    "sample2_by_hour = sample2.resample('H')\n",
    "sample2_by_hour"
   ]
  },
  {
   "cell_type": "code",
   "execution_count": 50,
   "metadata": {},
   "outputs": [
    {
     "data": {
      "text/plain": [
       "date\n",
       "2015-01-06 00:00:00    0.985007\n",
       "2015-01-06 01:00:00    0.985007\n",
       "2015-01-06 02:00:00    0.985007\n",
       "2015-01-06 03:00:00    0.985007\n",
       "2015-01-06 04:00:00    0.985007\n",
       "2015-01-06 05:00:00    0.985007\n",
       "2015-01-06 06:00:00    0.985007\n",
       "2015-01-06 07:00:00    0.985007\n",
       "2015-01-06 08:00:00    0.985007\n",
       "2015-01-06 09:00:00    0.985007\n",
       "2015-01-06 10:00:00    0.985007\n",
       "2015-01-06 11:00:00    0.985007\n",
       "2015-01-06 12:00:00    0.985007\n",
       "2015-01-06 13:00:00    0.985007\n",
       "2015-01-06 14:00:00    0.985007\n",
       "2015-01-06 15:00:00    0.985007\n",
       "2015-01-06 16:00:00    0.985007\n",
       "2015-01-06 17:00:00    0.985007\n",
       "2015-01-06 18:00:00    0.985007\n",
       "2015-01-06 19:00:00    0.985007\n",
       "2015-01-06 20:00:00    0.985007\n",
       "2015-01-06 21:00:00    0.985007\n",
       "2015-01-06 22:00:00    0.985007\n",
       "2015-01-06 23:00:00    0.985007\n",
       "2015-01-07 00:00:00    0.966217\n",
       "Freq: H, Name: close, dtype: float64"
      ]
     },
     "execution_count": 50,
     "metadata": {},
     "output_type": "execute_result"
    }
   ],
   "source": [
    "# 向前填充数据\n",
    "sample2_by_hour.fillna(method='ffill')"
   ]
  },
  {
   "cell_type": "code",
   "execution_count": 51,
   "metadata": {},
   "outputs": [
    {
     "data": {
      "text/plain": [
       "date\n",
       "2015-01-06 00:00:00    0.985007\n",
       "2015-01-06 01:00:00    0.966217\n",
       "2015-01-06 02:00:00    0.966217\n",
       "2015-01-06 03:00:00    0.966217\n",
       "2015-01-06 04:00:00    0.966217\n",
       "2015-01-06 05:00:00    0.966217\n",
       "2015-01-06 06:00:00    0.966217\n",
       "2015-01-06 07:00:00    0.966217\n",
       "2015-01-06 08:00:00    0.966217\n",
       "2015-01-06 09:00:00    0.966217\n",
       "2015-01-06 10:00:00    0.966217\n",
       "2015-01-06 11:00:00    0.966217\n",
       "2015-01-06 12:00:00    0.966217\n",
       "2015-01-06 13:00:00    0.966217\n",
       "2015-01-06 14:00:00    0.966217\n",
       "2015-01-06 15:00:00    0.966217\n",
       "2015-01-06 16:00:00    0.966217\n",
       "2015-01-06 17:00:00    0.966217\n",
       "2015-01-06 18:00:00    0.966217\n",
       "2015-01-06 19:00:00    0.966217\n",
       "2015-01-06 20:00:00    0.966217\n",
       "2015-01-06 21:00:00    0.966217\n",
       "2015-01-06 22:00:00    0.966217\n",
       "2015-01-06 23:00:00    0.966217\n",
       "2015-01-07 00:00:00    0.966217\n",
       "Freq: H, Name: close, dtype: float64"
      ]
     },
     "execution_count": 51,
     "metadata": {},
     "output_type": "execute_result"
    }
   ],
   "source": [
    "# 向后填充数据\n",
    "sample2_by_hour.fillna(method='bfill')"
   ]
  },
  {
   "cell_type": "code",
   "execution_count": 52,
   "metadata": {},
   "outputs": [
    {
     "data": {
      "text/plain": [
       "date\n",
       "2015-01-06 00:00:00    0.985007\n",
       "2015-01-06 01:00:00    0.984224\n",
       "2015-01-06 02:00:00    0.983441\n",
       "2015-01-06 03:00:00    0.982658\n",
       "2015-01-06 04:00:00    0.981875\n",
       "2015-01-06 05:00:00    0.981092\n",
       "2015-01-06 06:00:00    0.980309\n",
       "2015-01-06 07:00:00    0.979526\n",
       "2015-01-06 08:00:00    0.978744\n",
       "2015-01-06 09:00:00    0.977961\n",
       "2015-01-06 10:00:00    0.977178\n",
       "2015-01-06 11:00:00    0.976395\n",
       "2015-01-06 12:00:00    0.975612\n",
       "2015-01-06 13:00:00    0.974829\n",
       "2015-01-06 14:00:00    0.974046\n",
       "2015-01-06 15:00:00    0.973263\n",
       "2015-01-06 16:00:00    0.972481\n",
       "2015-01-06 17:00:00    0.971698\n",
       "2015-01-06 18:00:00    0.970915\n",
       "2015-01-06 19:00:00    0.970132\n",
       "2015-01-06 20:00:00    0.969349\n",
       "2015-01-06 21:00:00    0.968566\n",
       "2015-01-06 22:00:00    0.967783\n",
       "2015-01-06 23:00:00    0.967000\n",
       "2015-01-07 00:00:00    0.966217\n",
       "Freq: H, Name: close, dtype: float64"
      ]
     },
     "execution_count": 52,
     "metadata": {},
     "output_type": "execute_result"
    }
   ],
   "source": [
    "# 线性插值\n",
    "sample2_by_hour.interpolate()"
   ]
  },
  {
   "cell_type": "code",
   "execution_count": 74,
   "metadata": {},
   "outputs": [
    {
     "name": "stdout",
     "output_type": "stream",
     "text": [
      "本接口即将停止更新，请尽快使用Pro版接口：https://tushare.pro/document/2\n"
     ]
    },
    {
     "data": {
      "text/html": [
       "<div>\n",
       "<style scoped>\n",
       "    .dataframe tbody tr th:only-of-type {\n",
       "        vertical-align: middle;\n",
       "    }\n",
       "\n",
       "    .dataframe tbody tr th {\n",
       "        vertical-align: top;\n",
       "    }\n",
       "\n",
       "    .dataframe thead th {\n",
       "        text-align: right;\n",
       "    }\n",
       "</style>\n",
       "<table border=\"1\" class=\"dataframe\">\n",
       "  <thead>\n",
       "    <tr style=\"text-align: right;\">\n",
       "      <th></th>\n",
       "      <th>date</th>\n",
       "      <th>open</th>\n",
       "      <th>close</th>\n",
       "      <th>high</th>\n",
       "      <th>low</th>\n",
       "      <th>volume</th>\n",
       "      <th>code</th>\n",
       "    </tr>\n",
       "  </thead>\n",
       "  <tbody>\n",
       "    <tr>\n",
       "      <th>153</th>\n",
       "      <td>2017-08-18</td>\n",
       "      <td>16.426</td>\n",
       "      <td>16.289</td>\n",
       "      <td>16.426</td>\n",
       "      <td>16.270</td>\n",
       "      <td>484758.0</td>\n",
       "      <td>600030</td>\n",
       "    </tr>\n",
       "    <tr>\n",
       "      <th>154</th>\n",
       "      <td>2017-08-21</td>\n",
       "      <td>16.289</td>\n",
       "      <td>16.397</td>\n",
       "      <td>16.406</td>\n",
       "      <td>16.221</td>\n",
       "      <td>586058.0</td>\n",
       "      <td>600030</td>\n",
       "    </tr>\n",
       "    <tr>\n",
       "      <th>155</th>\n",
       "      <td>2017-08-22</td>\n",
       "      <td>16.377</td>\n",
       "      <td>16.358</td>\n",
       "      <td>16.455</td>\n",
       "      <td>16.289</td>\n",
       "      <td>474770.0</td>\n",
       "      <td>600030</td>\n",
       "    </tr>\n",
       "    <tr>\n",
       "      <th>156</th>\n",
       "      <td>2017-08-23</td>\n",
       "      <td>16.348</td>\n",
       "      <td>16.494</td>\n",
       "      <td>16.660</td>\n",
       "      <td>16.318</td>\n",
       "      <td>655328.0</td>\n",
       "      <td>600030</td>\n",
       "    </tr>\n",
       "    <tr>\n",
       "      <th>157</th>\n",
       "      <td>2017-08-24</td>\n",
       "      <td>16.475</td>\n",
       "      <td>16.240</td>\n",
       "      <td>16.514</td>\n",
       "      <td>16.231</td>\n",
       "      <td>530892.0</td>\n",
       "      <td>600030</td>\n",
       "    </tr>\n",
       "  </tbody>\n",
       "</table>\n",
       "</div>"
      ],
      "text/plain": [
       "           date    open   close    high     low    volume    code\n",
       "153  2017-08-18  16.426  16.289  16.426  16.270  484758.0  600030\n",
       "154  2017-08-21  16.289  16.397  16.406  16.221  586058.0  600030\n",
       "155  2017-08-22  16.377  16.358  16.455  16.289  474770.0  600030\n",
       "156  2017-08-23  16.348  16.494  16.660  16.318  655328.0  600030\n",
       "157  2017-08-24  16.475  16.240  16.514  16.231  530892.0  600030"
      ]
     },
     "execution_count": 74,
     "metadata": {},
     "output_type": "execute_result"
    }
   ],
   "source": [
    "# 数据频率采样转换的实战应用\n",
    "data = ts.get_k_data('600030','2017-08-18')\n",
    "data.head()"
   ]
  },
  {
   "cell_type": "code",
   "execution_count": 77,
   "metadata": {},
   "outputs": [
    {
     "data": {
      "text/html": [
       "<div>\n",
       "<style scoped>\n",
       "    .dataframe tbody tr th:only-of-type {\n",
       "        vertical-align: middle;\n",
       "    }\n",
       "\n",
       "    .dataframe tbody tr th {\n",
       "        vertical-align: top;\n",
       "    }\n",
       "\n",
       "    .dataframe thead th {\n",
       "        text-align: right;\n",
       "    }\n",
       "</style>\n",
       "<table border=\"1\" class=\"dataframe\">\n",
       "  <thead>\n",
       "    <tr style=\"text-align: right;\">\n",
       "      <th></th>\n",
       "      <th>open</th>\n",
       "      <th>close</th>\n",
       "      <th>high</th>\n",
       "      <th>low</th>\n",
       "      <th>volume</th>\n",
       "      <th>code</th>\n",
       "    </tr>\n",
       "    <tr>\n",
       "      <th>date</th>\n",
       "      <th></th>\n",
       "      <th></th>\n",
       "      <th></th>\n",
       "      <th></th>\n",
       "      <th></th>\n",
       "      <th></th>\n",
       "    </tr>\n",
       "  </thead>\n",
       "  <tbody>\n",
       "    <tr>\n",
       "      <th>2017-08-18</th>\n",
       "      <td>16.426</td>\n",
       "      <td>16.289</td>\n",
       "      <td>16.426</td>\n",
       "      <td>16.270</td>\n",
       "      <td>484758.0</td>\n",
       "      <td>600030</td>\n",
       "    </tr>\n",
       "    <tr>\n",
       "      <th>2017-08-21</th>\n",
       "      <td>16.289</td>\n",
       "      <td>16.397</td>\n",
       "      <td>16.406</td>\n",
       "      <td>16.221</td>\n",
       "      <td>586058.0</td>\n",
       "      <td>600030</td>\n",
       "    </tr>\n",
       "    <tr>\n",
       "      <th>2017-08-22</th>\n",
       "      <td>16.377</td>\n",
       "      <td>16.358</td>\n",
       "      <td>16.455</td>\n",
       "      <td>16.289</td>\n",
       "      <td>474770.0</td>\n",
       "      <td>600030</td>\n",
       "    </tr>\n",
       "    <tr>\n",
       "      <th>2017-08-23</th>\n",
       "      <td>16.348</td>\n",
       "      <td>16.494</td>\n",
       "      <td>16.660</td>\n",
       "      <td>16.318</td>\n",
       "      <td>655328.0</td>\n",
       "      <td>600030</td>\n",
       "    </tr>\n",
       "    <tr>\n",
       "      <th>2017-08-24</th>\n",
       "      <td>16.475</td>\n",
       "      <td>16.240</td>\n",
       "      <td>16.514</td>\n",
       "      <td>16.231</td>\n",
       "      <td>530892.0</td>\n",
       "      <td>600030</td>\n",
       "    </tr>\n",
       "  </tbody>\n",
       "</table>\n",
       "</div>"
      ],
      "text/plain": [
       "              open   close    high     low    volume    code\n",
       "date                                                        \n",
       "2017-08-18  16.426  16.289  16.426  16.270  484758.0  600030\n",
       "2017-08-21  16.289  16.397  16.406  16.221  586058.0  600030\n",
       "2017-08-22  16.377  16.358  16.455  16.289  474770.0  600030\n",
       "2017-08-23  16.348  16.494  16.660  16.318  655328.0  600030\n",
       "2017-08-24  16.475  16.240  16.514  16.231  530892.0  600030"
      ]
     },
     "execution_count": 77,
     "metadata": {},
     "output_type": "execute_result"
    }
   ],
   "source": [
    "data.set_index('date',inplace=True)\n",
    "data.sort_index(ascending=True,inplace=True)\n",
    "data.head()"
   ]
  },
  {
   "cell_type": "code",
   "execution_count": 78,
   "metadata": {},
   "outputs": [
    {
     "name": "stdout",
     "output_type": "stream",
     "text": [
      "<class 'pandas.core.frame.DataFrame'>\n",
      "DatetimeIndex: 681 entries, 2017-08-18 to 2020-06-23\n",
      "Data columns (total 6 columns):\n",
      " #   Column  Non-Null Count  Dtype  \n",
      "---  ------  --------------  -----  \n",
      " 0   open    681 non-null    float64\n",
      " 1   close   681 non-null    float64\n",
      " 2   high    681 non-null    float64\n",
      " 3   low     681 non-null    float64\n",
      " 4   volume  681 non-null    float64\n",
      " 5   code    681 non-null    object \n",
      "dtypes: float64(5), object(1)\n",
      "memory usage: 37.2+ KB\n"
     ]
    }
   ],
   "source": [
    "data.index = pd.to_datetime(data.index)\n",
    "data.info()"
   ]
  },
  {
   "cell_type": "code",
   "execution_count": 81,
   "metadata": {},
   "outputs": [
    {
     "ename": "AttributeError",
     "evalue": "'DatetimeIndexResampler' object has no attribute 'head'",
     "output_type": "error",
     "traceback": [
      "\u001b[1;31m---------------------------------------------------------------------------\u001b[0m",
      "\u001b[1;31mAttributeError\u001b[0m                            Traceback (most recent call last)",
      "\u001b[1;32m<ipython-input-81-f5f60b552e03>\u001b[0m in \u001b[0;36m<module>\u001b[1;34m\u001b[0m\n\u001b[0;32m      1\u001b[0m \u001b[0mdata_5m\u001b[0m \u001b[1;33m=\u001b[0m \u001b[0mdata\u001b[0m\u001b[1;33m.\u001b[0m\u001b[0mresample\u001b[0m\u001b[1;33m(\u001b[0m\u001b[1;34m'5T'\u001b[0m\u001b[1;33m)\u001b[0m\u001b[1;33m\u001b[0m\u001b[1;33m\u001b[0m\u001b[0m\n\u001b[1;32m----> 2\u001b[1;33m \u001b[0mdata_5m\u001b[0m\u001b[1;33m.\u001b[0m\u001b[0mhead\u001b[0m\u001b[1;33m(\u001b[0m\u001b[1;33m)\u001b[0m\u001b[1;33m\u001b[0m\u001b[1;33m\u001b[0m\u001b[0m\n\u001b[0m",
      "\u001b[1;32mD:\\anaconda3\\envs\\tensoflow2.2\\lib\\site-packages\\pandas\\core\\resample.py\u001b[0m in \u001b[0;36m__getattr__\u001b[1;34m(self, attr)\u001b[0m\n\u001b[0;32m    105\u001b[0m             \u001b[1;32mreturn\u001b[0m \u001b[0mself\u001b[0m\u001b[1;33m[\u001b[0m\u001b[0mattr\u001b[0m\u001b[1;33m]\u001b[0m\u001b[1;33m\u001b[0m\u001b[1;33m\u001b[0m\u001b[0m\n\u001b[0;32m    106\u001b[0m \u001b[1;33m\u001b[0m\u001b[0m\n\u001b[1;32m--> 107\u001b[1;33m         \u001b[1;32mreturn\u001b[0m \u001b[0mobject\u001b[0m\u001b[1;33m.\u001b[0m\u001b[0m__getattribute__\u001b[0m\u001b[1;33m(\u001b[0m\u001b[0mself\u001b[0m\u001b[1;33m,\u001b[0m \u001b[0mattr\u001b[0m\u001b[1;33m)\u001b[0m\u001b[1;33m\u001b[0m\u001b[1;33m\u001b[0m\u001b[0m\n\u001b[0m\u001b[0;32m    108\u001b[0m \u001b[1;33m\u001b[0m\u001b[0m\n\u001b[0;32m    109\u001b[0m     \u001b[1;32mdef\u001b[0m \u001b[0m__iter__\u001b[0m\u001b[1;33m(\u001b[0m\u001b[0mself\u001b[0m\u001b[1;33m)\u001b[0m\u001b[1;33m:\u001b[0m\u001b[1;33m\u001b[0m\u001b[1;33m\u001b[0m\u001b[0m\n",
      "\u001b[1;31mAttributeError\u001b[0m: 'DatetimeIndexResampler' object has no attribute 'head'"
     ]
    }
   ],
   "source": [
    "data_5m = data.resample('5T')\n",
    "data_5m.head()"
   ]
  },
  {
   "cell_type": "code",
   "execution_count": null,
   "metadata": {},
   "outputs": [],
   "source": []
  }
 ],
 "metadata": {
  "kernelspec": {
   "display_name": "Python 3",
   "language": "python",
   "name": "python3"
  },
  "language_info": {
   "codemirror_mode": {
    "name": "ipython",
    "version": 3
   },
   "file_extension": ".py",
   "mimetype": "text/x-python",
   "name": "python",
   "nbconvert_exporter": "python",
   "pygments_lexer": "ipython3",
   "version": "3.7.7"
  }
 },
 "nbformat": 4,
 "nbformat_minor": 4
}
