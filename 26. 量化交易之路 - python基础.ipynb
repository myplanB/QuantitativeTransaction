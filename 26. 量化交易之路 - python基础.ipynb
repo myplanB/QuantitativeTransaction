{
 "cells": [
  {
   "cell_type": "code",
   "execution_count": 2,
   "metadata": {},
   "outputs": [
    {
     "data": {
      "text/plain": [
       "str"
      ]
     },
     "execution_count": 2,
     "metadata": {},
     "output_type": "execute_result"
    }
   ],
   "source": [
    "price_str = '30.14, 29.58, 26.36, 32.56, 32.82'\n",
    "type(price_str)"
   ]
  },
  {
   "cell_type": "code",
   "execution_count": 4,
   "metadata": {},
   "outputs": [
    {
     "ename": "TypeError",
     "evalue": "price_str is str type!",
     "output_type": "error",
     "traceback": [
      "\u001b[0;31m---------------------------------------------------------------------------\u001b[0m",
      "\u001b[0;31mTypeError\u001b[0m                                 Traceback (most recent call last)",
      "\u001b[0;32m<ipython-input-4-01a2b22232a9>\u001b[0m in \u001b[0;36m<module>\u001b[0;34m\u001b[0m\n\u001b[1;32m      6\u001b[0m     \u001b[0mprice_str\u001b[0m \u001b[0;34m+=\u001b[0m \u001b[0;36m1.0\u001b[0m\u001b[0;34m\u001b[0m\u001b[0;34m\u001b[0m\u001b[0m\n\u001b[1;32m      7\u001b[0m \u001b[0;32melse\u001b[0m\u001b[0;34m:\u001b[0m\u001b[0;34m\u001b[0m\u001b[0;34m\u001b[0m\u001b[0m\n\u001b[0;32m----> 8\u001b[0;31m     \u001b[0;32mraise\u001b[0m \u001b[0mTypeError\u001b[0m\u001b[0;34m(\u001b[0m\u001b[0;34m'price_str is str type!'\u001b[0m\u001b[0;34m)\u001b[0m\u001b[0;34m\u001b[0m\u001b[0;34m\u001b[0m\u001b[0m\n\u001b[0m",
      "\u001b[0;31mTypeError\u001b[0m: price_str is str type!"
     ]
    }
   ],
   "source": [
    "if not isinstance(price_str,str):\n",
    "    price_str = str(price_str)\n",
    "if isinstance(price_str,int) and price_str > 0:\n",
    "    price_str += 1\n",
    "elif isinstance(price_str,float) and price_str < 0:\n",
    "    price_str += 1.0\n",
    "else:\n",
    "    raise TypeError('price_str is str type!')"
   ]
  },
  {
   "cell_type": "markdown",
   "metadata": {},
   "source": [
    "### 字符串"
   ]
  },
  {
   "cell_type": "code",
   "execution_count": 5,
   "metadata": {},
   "outputs": [
    {
     "name": "stdout",
     "output_type": "stream",
     "text": [
      "旧的price_str id= 140136290753392\n",
      "新的price_str id= 140136292170688\n"
     ]
    },
    {
     "data": {
      "text/plain": [
       "'30.14,29.58,26.36,32.56,32.82'"
      ]
     },
     "execution_count": 5,
     "metadata": {},
     "output_type": "execute_result"
    }
   ],
   "source": [
    "print('旧的price_str id= {}'.format(id(price_str)))\n",
    "price_str = price_str.replace(' ','')\n",
    "print('新的price_str id= {}'.format(id(price_str)))\n",
    "price_str"
   ]
  },
  {
   "cell_type": "markdown",
   "metadata": {},
   "source": [
    "### 容器"
   ]
  },
  {
   "cell_type": "code",
   "execution_count": 6,
   "metadata": {},
   "outputs": [
    {
     "name": "stdout",
     "output_type": "stream",
     "text": [
      "['30.14', '29.58', '26.36', '32.56', '32.82']\n"
     ]
    }
   ],
   "source": [
    "price_array = price_str.split(',')\n",
    "print(price_array)"
   ]
  },
  {
   "cell_type": "code",
   "execution_count": 7,
   "metadata": {},
   "outputs": [
    {
     "name": "stdout",
     "output_type": "stream",
     "text": [
      "['30.14', '29.58', '26.36', '32.56', '32.82', '32.82']\n"
     ]
    }
   ],
   "source": [
    "price_array.append('32.82')\n",
    "print(price_array)"
   ]
  },
  {
   "cell_type": "code",
   "execution_count": 8,
   "metadata": {},
   "outputs": [
    {
     "data": {
      "text/plain": [
       "{'26.36', '29.58', '30.14', '32.56', '32.82'}"
      ]
     },
     "execution_count": 8,
     "metadata": {},
     "output_type": "execute_result"
    }
   ],
   "source": [
    "set(price_array)"
   ]
  },
  {
   "cell_type": "code",
   "execution_count": 10,
   "metadata": {},
   "outputs": [
    {
     "data": {
      "text/plain": [
       "['30.14', '29.58', '26.36', '32.56']"
      ]
     },
     "execution_count": 10,
     "metadata": {},
     "output_type": "execute_result"
    }
   ],
   "source": [
    "price_array.remove('32.82')\n",
    "price_array"
   ]
  },
  {
   "cell_type": "markdown",
   "metadata": {},
   "source": [
    "### 循环控制"
   ]
  },
  {
   "cell_type": "code",
   "execution_count": 13,
   "metadata": {},
   "outputs": [
    {
     "data": {
      "text/plain": [
       "['20170118', '20170119', '20170120', '20170121']"
      ]
     },
     "execution_count": 13,
     "metadata": {},
     "output_type": "execute_result"
    }
   ],
   "source": [
    "date_array = []\n",
    "date_base = 20170118\n",
    "\n",
    "for _ in range(0,len(price_array)):\n",
    "    date_array.append(str(date_base))\n",
    "    date_base += 1\n",
    "date_array"
   ]
  },
  {
   "cell_type": "code",
   "execution_count": 14,
   "metadata": {},
   "outputs": [
    {
     "data": {
      "text/plain": [
       "['20170118', '20170119', '20170120']"
      ]
     },
     "execution_count": 14,
     "metadata": {},
     "output_type": "execute_result"
    }
   ],
   "source": [
    "date_array = []\n",
    "date_base = 20170118\n",
    "price_cnt = len(price_array) - 1\n",
    "\n",
    "while price_cnt > 0:\n",
    "    date_array.append(str(date_base))\n",
    "    date_base += 1\n",
    "    price_cnt -= 1\n",
    "date_array"
   ]
  },
  {
   "cell_type": "markdown",
   "metadata": {},
   "source": [
    "### 列表推导式"
   ]
  },
  {
   "cell_type": "code",
   "execution_count": 15,
   "metadata": {},
   "outputs": [
    {
     "data": {
      "text/plain": [
       "['20170118', '20170119', '20170120', '20170121']"
      ]
     },
     "execution_count": 15,
     "metadata": {},
     "output_type": "execute_result"
    }
   ],
   "source": [
    "date_base = 20170118\n",
    "date_array = [str(date_base + ind) for ind, _ in enumerate(price_array)]\n",
    "date_array"
   ]
  },
  {
   "cell_type": "code",
   "execution_count": 16,
   "metadata": {},
   "outputs": [
    {
     "name": "stdout",
     "output_type": "stream",
     "text": [
      "20170119日价格： 29.58\n"
     ]
    }
   ],
   "source": [
    "stock_tuple_list = [(date,price) for date,price in zip(date_array,price_array)]\n",
    "print('20170119日价格： {}'.format(stock_tuple_list[1][1]))"
   ]
  },
  {
   "cell_type": "code",
   "execution_count": 17,
   "metadata": {},
   "outputs": [
    {
     "data": {
      "text/plain": [
       "[('20170118', '30.14'),\n",
       " ('20170119', '29.58'),\n",
       " ('20170120', '26.36'),\n",
       " ('20170121', '32.56')]"
      ]
     },
     "execution_count": 17,
     "metadata": {},
     "output_type": "execute_result"
    }
   ],
   "source": [
    "stock_tuple_list"
   ]
  },
  {
   "cell_type": "markdown",
   "metadata": {},
   "source": [
    "### 可命名元组 namedtuple"
   ]
  },
  {
   "cell_type": "code",
   "execution_count": 18,
   "metadata": {},
   "outputs": [
    {
     "name": "stdout",
     "output_type": "stream",
     "text": [
      "20170119日价格: 29.58\n"
     ]
    },
    {
     "data": {
      "text/plain": [
       "[stock(date='20170118', price='30.14'),\n",
       " stock(date='20170119', price='29.58'),\n",
       " stock(date='20170120', price='26.36'),\n",
       " stock(date='20170121', price='32.56')]"
      ]
     },
     "execution_count": 18,
     "metadata": {},
     "output_type": "execute_result"
    }
   ],
   "source": [
    "from collections import namedtuple\n",
    "\n",
    "stock_namedtuple = namedtuple('stock', ('date','price'))\n",
    "stock_namedtuple_list = [stock_namedtuple(date,price) for date,price in zip(date_array,price_array)]\n",
    "print('20170119日价格: {}'.format(stock_namedtuple_list[1].price))\n",
    "stock_namedtuple_list"
   ]
  },
  {
   "cell_type": "markdown",
   "metadata": {},
   "source": [
    "### 字典推导式"
   ]
  },
  {
   "cell_type": "code",
   "execution_count": 19,
   "metadata": {},
   "outputs": [
    {
     "name": "stdout",
     "output_type": "stream",
     "text": [
      "20170119日价格: 29.58\n"
     ]
    },
    {
     "data": {
      "text/plain": [
       "{'20170118': '30.14',\n",
       " '20170119': '29.58',\n",
       " '20170120': '26.36',\n",
       " '20170121': '32.56'}"
      ]
     },
     "execution_count": 19,
     "metadata": {},
     "output_type": "execute_result"
    }
   ],
   "source": [
    "stock_dict = {date:price for date,price in zip(date_array,price_array)}\n",
    "print('20170119日价格: {}'.format(stock_dict['20170119']))\n",
    "stock_dict"
   ]
  },
  {
   "cell_type": "markdown",
   "metadata": {},
   "source": [
    "### 有序字典"
   ]
  },
  {
   "cell_type": "code",
   "execution_count": 21,
   "metadata": {},
   "outputs": [
    {
     "data": {
      "text/plain": [
       "odict_keys(['20170118', '20170119', '20170120', '20170121'])"
      ]
     },
     "execution_count": 21,
     "metadata": {},
     "output_type": "execute_result"
    }
   ],
   "source": [
    "from collections import OrderedDict\n",
    "\n",
    "stock_dict = OrderedDict(\n",
    "    (date,price) for date,price in zip(date_array,price_array)\n",
    ")\n",
    "\n",
    "stock_dict.keys()"
   ]
  },
  {
   "cell_type": "markdown",
   "metadata": {},
   "source": [
    "### 函数"
   ]
  },
  {
   "cell_type": "code",
   "execution_count": 22,
   "metadata": {},
   "outputs": [
    {
     "data": {
      "text/plain": [
       "'20170118'"
      ]
     },
     "execution_count": 22,
     "metadata": {},
     "output_type": "execute_result"
    }
   ],
   "source": [
    "min(stock_dict)"
   ]
  },
  {
   "cell_type": "code",
   "execution_count": 23,
   "metadata": {},
   "outputs": [
    {
     "data": {
      "text/plain": [
       "('26.36', '20170120')"
      ]
     },
     "execution_count": 23,
     "metadata": {},
     "output_type": "execute_result"
    }
   ],
   "source": [
    "min(zip(stock_dict.values(),stock_dict.keys()))"
   ]
  },
  {
   "cell_type": "code",
   "execution_count": 25,
   "metadata": {},
   "outputs": [
    {
     "data": {
      "text/plain": [
       "[('30.14', '20170118'),\n",
       " ('29.58', '20170119'),\n",
       " ('26.36', '20170120'),\n",
       " ('32.56', '20170121')]"
      ]
     },
     "execution_count": 25,
     "metadata": {},
     "output_type": "execute_result"
    }
   ],
   "source": [
    "list(zip(stock_dict.values(),stock_dict.keys()))"
   ]
  },
  {
   "cell_type": "code",
   "execution_count": 26,
   "metadata": {},
   "outputs": [
    {
     "name": "stdout",
     "output_type": "stream",
     "text": [
      "('30.14', '20170118')\n"
     ]
    }
   ],
   "source": [
    "def find_second_max(dict_array):\n",
    "    stock_prices_sorted = sorted(\n",
    "        zip(dict_array.values(),dict_array.keys())\n",
    "    )\n",
    "    return stock_prices_sorted[-2]\n",
    "\n",
    "# callable()验证是否为一个可调用call的函数\n",
    "if callable(find_second_max):\n",
    "    print(find_second_max(stock_dict))"
   ]
  },
  {
   "cell_type": "code",
   "execution_count": 27,
   "metadata": {},
   "outputs": [
    {
     "data": {
      "text/plain": [
       "('30.14', '20170118')"
      ]
     },
     "execution_count": 27,
     "metadata": {},
     "output_type": "execute_result"
    }
   ],
   "source": [
    "find_second_max_lambda = lambda dict_array: sorted(zip(dict_array.values(),dict_array.keys()))[-2]\n",
    "\n",
    "find_second_max_lambda(stock_dict)"
   ]
  },
  {
   "cell_type": "code",
   "execution_count": 28,
   "metadata": {},
   "outputs": [
    {
     "data": {
      "text/plain": [
       "(('26.36', '20170120'), ('32.56', '20170121'))"
      ]
     },
     "execution_count": 28,
     "metadata": {},
     "output_type": "execute_result"
    }
   ],
   "source": [
    "# 求最大值和最小值\n",
    "def find_max_and_min(dict_array):\n",
    "    stock_prices_sorted = sorted(\n",
    "        zip(dict_array.values(),dict_array.keys())\n",
    "    )\n",
    "    return stock_prices_sorted[0],stock_prices_sorted[-1]\n",
    "\n",
    "find_max_and_min(stock_dict)"
   ]
  },
  {
   "cell_type": "code",
   "execution_count": 29,
   "metadata": {},
   "outputs": [
    {
     "data": {
      "text/plain": [
       "[(30.14, 29.58), (29.58, 26.36), (26.36, 32.56)]"
      ]
     },
     "execution_count": 29,
     "metadata": {},
     "output_type": "execute_result"
    }
   ],
   "source": [
    "# 从收盘价格，推导出每天的张跌幅度\n",
    "price_float_array = [float(price_str) for price_str in stock_dict.values()]\n",
    "pp_array = [(price1,price2) for price1,price2 in zip(price_float_array[:-1],price_float_array[1:])]\n",
    "pp_array"
   ]
  },
  {
   "cell_type": "code",
   "execution_count": 32,
   "metadata": {},
   "outputs": [
    {
     "data": {
      "text/plain": [
       "[0, -0.019, -0.109, 0.235]"
      ]
     },
     "execution_count": 32,
     "metadata": {},
     "output_type": "execute_result"
    }
   ],
   "source": [
    "from functools import reduce\n",
    "change_array = map(\n",
    "    lambda pp: reduce(lambda a,b: round((b-a)/a,3),pp),\n",
    "    pp_array\n",
    ")\n",
    "\n",
    "change_array_list = list(change_array)\n",
    "change_array_list.insert(0,0)\n",
    "change_array_list"
   ]
  },
  {
   "cell_type": "code",
   "execution_count": 36,
   "metadata": {},
   "outputs": [
    {
     "data": {
      "text/plain": [
       "OrderedDict([('20170118', stock(date='20170118', price='30.14', change=0)),\n",
       "             ('20170119',\n",
       "              stock(date='20170119', price='29.58', change=-0.019)),\n",
       "             ('20170120',\n",
       "              stock(date='20170120', price='26.36', change=-0.109)),\n",
       "             ('20170121',\n",
       "              stock(date='20170121', price='32.56', change=0.235))])"
      ]
     },
     "execution_count": 36,
     "metadata": {},
     "output_type": "execute_result"
    }
   ],
   "source": [
    "# 申明了一个tuple\n",
    "stock_namedtuple = namedtuple('stock',('date','price','change'))\n",
    "\n",
    "stock_dict = OrderedDict(\n",
    "    (date,stock_namedtuple(date,price,change)) \n",
    "    for date,price,change in zip(date_array,price_array,change_array_list)\n",
    ")\n",
    "\n",
    "stock_dict"
   ]
  },
  {
   "cell_type": "code",
   "execution_count": 37,
   "metadata": {},
   "outputs": [],
   "source": [
    "def filter_stock(stock_array_dict,want_up=True,want_calc_sum=False):\n",
    "    if not isinstance(stock_array_dict,OrderedDict):\n",
    "        raise TypeError('stock_array_dict must be OrderedDict!')\n",
    "    \n",
    "    filter_func = (lambda day: day.change > 0) if want_up else (lambda day:day.change < 0)\n",
    "    \n",
    "    want_days = filter(filter_func, stock_array_dict.values())\n",
    "    \n",
    "    if not want_calc_sum:\n",
    "        return want_days\n",
    "    \n",
    "    change_sum = 0.0\n",
    "    for day in want_days:\n",
    "        change_sum += day.change\n",
    "    return change_sum"
   ]
  },
  {
   "cell_type": "code",
   "execution_count": 42,
   "metadata": {},
   "outputs": [
    {
     "name": "stdout",
     "output_type": "stream",
     "text": [
      "所有上涨的交易日： [stock(date='20170121', price='32.56', change=0.235)]\n",
      "所有下跌的交易日： [stock(date='20170119', price='29.58', change=-0.019), stock(date='20170120', price='26.36', change=-0.109)]\n",
      "所有上涨交易日的涨幅和: 0.235\n",
      "所有下跌交易日的跌幅和：-0.128\n"
     ]
    }
   ],
   "source": [
    "print('所有上涨的交易日： {}'.format(list(filter_stock(stock_dict))))\n",
    "print('所有下跌的交易日： {}'.format(list(filter_stock(stock_dict,want_up=False))))\n",
    "print('所有上涨交易日的涨幅和: {}'.format(float(filter_stock(stock_dict,want_calc_sum=True))))\n",
    "print('所有下跌交易日的跌幅和：{}'.format(float(filter_stock(stock_dict,want_calc_sum=True,want_up=False))))"
   ]
  },
  {
   "cell_type": "code",
   "execution_count": 43,
   "metadata": {},
   "outputs": [
    {
     "data": {
      "text/plain": [
       "functools.partial(<function filter_stock at 0x7f74040fea60>, want_up=False, want_calc_sum=True)"
      ]
     },
     "execution_count": 43,
     "metadata": {},
     "output_type": "execute_result"
    }
   ],
   "source": [
    "from functools import partial\n",
    "\n",
    "filter_stock_up_days = partial(filter_stock,want_up=True,want_calc_sum=False)\n",
    "filter_stock_down_days = partial(filter_stock,want_up=False,want_calc_sum=False)\n",
    "filter_stock_up_sums = partial(filter_stock,want_up=True,want_calc_sum=True)\n",
    "filter_stock_down_sums = partial(filter_stock,want_up=False,want_calc_sum=True)\n",
    "\n",
    "filter_stock_up_days\n",
    "filter_stock_down_days\n",
    "filter_stock_up_sums\n",
    "filter_stock_down_sums"
   ]
  },
  {
   "cell_type": "code",
   "execution_count": 45,
   "metadata": {},
   "outputs": [
    {
     "name": "stdout",
     "output_type": "stream",
     "text": [
      "所有上涨的交易日: [stock(date='20170121', price='32.56', change=0.235)]\n",
      "所有下跌的交易日：[stock(date='20170119', price='29.58', change=-0.019), stock(date='20170120', price='26.36', change=-0.109)]\n",
      "所有上涨交易日的涨幅和：0.235\n",
      "所有下跌交易日的跌幅和：-0.128\n"
     ]
    }
   ],
   "source": [
    "print('所有上涨的交易日: {}'.format(list(filter_stock_up_days(stock_dict))))\n",
    "print('所有下跌的交易日：{}'.format(list(filter_stock_down_days(stock_dict))))\n",
    "print('所有上涨交易日的涨幅和：{}'.format(filter_stock_up_sums(stock_dict)))\n",
    "print('所有下跌交易日的跌幅和：{}'.format(filter_stock_down_sums(stock_dict)))"
   ]
  },
  {
   "cell_type": "markdown",
   "metadata": {},
   "source": [
    "### 面向对象"
   ]
  },
  {
   "cell_type": "code",
   "execution_count": 49,
   "metadata": {},
   "outputs": [],
   "source": [
    "from collections import namedtuple\n",
    "from collections import OrderedDict\n",
    "\n",
    "class StockTradeDays(object):\n",
    "    \n",
    "    def __init__(self,price_array,start_date,date_array=None):\n",
    "        # 私有价格序列\n",
    "        self.__price_array = price_array\n",
    "        # 私有日期序列\n",
    "        self.__date_array = self._init_days(start_date, date_array)\n",
    "        # 私有涨跌副序列\n",
    "        self.__change_array = self.__init_change()\n",
    "        # 进行OrderedDict的组装\n",
    "        self.stock_dict = self._init_stock_dict()\n",
    "    \n",
    "    def __init_change(self):\n",
    "        # 从price_array 生成chang_array\n",
    "        price_float_array = [float(price_str) for price_str in self.__price_array]\n",
    "        \n",
    "        pp_array = [(price1,price2) for price1,price2 in zip(price_float_array[:-1],price_float_array[1:])]\n",
    "        \n",
    "        change_array = map(\n",
    "            lambda pp: reduce(lambda a,b:round((b-a)/a,3),pp),\n",
    "            pp_array\n",
    "        )\n",
    "        \n",
    "        change_array_list = list(change_array)\n",
    "        change_array_list.insert(0,0)\n",
    "        return change_array_list\n",
    "    \n",
    "    def _init_days(self,start_date,date_array):\n",
    "        \n",
    "        if date_array is None:\n",
    "            date_array = [str(start_date+ind) for ind,_ in enumerate(self.__price_array)]\n",
    "        else:\n",
    "            date_array = [str(date) for date in date_array]\n",
    "        return date_array\n",
    "    \n",
    "    def _init_stock_dict(self):\n",
    "        stock_namedtuple = namedtuple('stock',('date','price','change'))\n",
    "        \n",
    "        stock_dict = OrderedDict(\n",
    "            (date,stock_namedtuple(date,price,change) )\n",
    "             for date,price,change in zip(self.__date_array,self.__price_array,self.__change_array)\n",
    "        )\n",
    "        return stock_dict\n",
    "    \n",
    "    def filter_stock(self,want_up=True,want_calc_sum=False):\n",
    "        filter_func = (lambda day:day.change > 0) if want_up else (lambda day:day.change < 0)\n",
    "        want_days = filter(filter_func,self.stock_dict.values())\n",
    "        \n",
    "        if not want_calc_sum:\n",
    "            return want_days\n",
    "        \n",
    "        change_sum = 0.0\n",
    "        for day in want_days:\n",
    "            change_sum += day.change\n",
    "        return change_sum\n",
    "    \n",
    "    def __str__(self):\n",
    "        return str(self.stock_dict)\n",
    "    \n",
    "    def __iter__(self):\n",
    "        for key in self.stock_dict:\n",
    "            yield self.stock_dict[key]\n",
    "            \n",
    "    def __getitem__(self,ind):\n",
    "        date_key = self.__date_array[ind]\n",
    "        return self.stock_dict[date_key]\n",
    "    \n",
    "    def __len__(self):\n",
    "        return len(self.stock_dict)"
   ]
  },
  {
   "cell_type": "code",
   "execution_count": 51,
   "metadata": {},
   "outputs": [
    {
     "data": {
      "text/plain": [
       "[stock(date='20170118', price='30.14', change=0),\n",
       " stock(date='20170119', price='29.58', change=-0.019),\n",
       " stock(date='20170120', price='26.36', change=-0.109),\n",
       " stock(date='20170121', price='32.56', change=0.235),\n",
       " stock(date='20170122', price='32.82', change=0.008)]"
      ]
     },
     "execution_count": 51,
     "metadata": {},
     "output_type": "execute_result"
    }
   ],
   "source": [
    "price_array = '30.14,29.58,26.36,32.56,32.82'.split(',')\n",
    "date_base = 20170118\n",
    "trade_days = StockTradeDays(price_array,date_base)\n",
    "list(trade_days)"
   ]
  },
  {
   "cell_type": "code",
   "execution_count": 52,
   "metadata": {},
   "outputs": [
    {
     "name": "stdout",
     "output_type": "stream",
     "text": [
      "stock(date='20170118', price='30.14', change=0)\n",
      "stock(date='20170119', price='29.58', change=-0.019)\n",
      "stock(date='20170120', price='26.36', change=-0.109)\n",
      "stock(date='20170121', price='32.56', change=0.235)\n",
      "stock(date='20170122', price='32.82', change=0.008)\n"
     ]
    },
    {
     "name": "stderr",
     "output_type": "stream",
     "text": [
      "<ipython-input-52-63dbc2a1003c>:1: DeprecationWarning: Using or importing the ABCs from 'collections' instead of from 'collections.abc' is deprecated since Python 3.3, and in 3.9 it will stop working\n",
      "  from collections import Iterable\n"
     ]
    }
   ],
   "source": [
    "from collections import Iterable\n",
    "\n",
    "if isinstance(trade_days, Iterable):\n",
    "    for day in trade_days:\n",
    "        print(day)"
   ]
  },
  {
   "cell_type": "code",
   "execution_count": 53,
   "metadata": {},
   "outputs": [
    {
     "data": {
      "text/plain": [
       "<filter at 0x7f74045a79d0>"
      ]
     },
     "execution_count": 53,
     "metadata": {},
     "output_type": "execute_result"
    }
   ],
   "source": [
    "trade_days.filter_stock()"
   ]
  },
  {
   "cell_type": "code",
   "execution_count": 54,
   "metadata": {},
   "outputs": [
    {
     "name": "stdout",
     "output_type": "stream",
     "text": [
      "stock(date='20170121', price='32.56', change=0.235)\n",
      "stock(date='20170122', price='32.82', change=0.008)\n"
     ]
    }
   ],
   "source": [
    "if isinstance(trade_days.filter_stock(),Iterable):\n",
    "    for price in trade_days.filter_stock():\n",
    "        print(price)"
   ]
  },
  {
   "cell_type": "code",
   "execution_count": 55,
   "metadata": {},
   "outputs": [
    {
     "name": "stdout",
     "output_type": "stream",
     "text": [
      "Defaulting to user installation because normal site-packages is not writeable\n",
      "Looking in indexes: https://pypi.tuna.tsinghua.edu.cn/simple\n",
      "Requirement already satisfied: six in /usr/lib/python3/dist-packages (1.14.0)\n"
     ]
    }
   ],
   "source": [
    "!pip3 install six"
   ]
  },
  {
   "cell_type": "markdown",
   "metadata": {},
   "source": [
    "### 编写基类"
   ]
  },
  {
   "cell_type": "code",
   "execution_count": 57,
   "metadata": {},
   "outputs": [],
   "source": [
    "import six\n",
    "from abc import ABCMeta,abstractmethod\n",
    "\n",
    "class TradeStrategyBase(six.with_metaclass(ABCMeta,object)):\n",
    "    '''\n",
    "    交易策略抽象基类\n",
    "    '''\n",
    "    @abstractmethod\n",
    "    def buy_strategy(self,*args,**kwargs):\n",
    "        '''\n",
    "        买入策略基类\n",
    "        '''\n",
    "        pass\n",
    "    \n",
    "    @abstractmethod\n",
    "    def sell_strategy(self,*args,**kwargs):\n",
    "        '''\n",
    "        卖出策略基类\n",
    "        '''\n",
    "        pass"
   ]
  },
  {
   "cell_type": "code",
   "execution_count": 60,
   "metadata": {},
   "outputs": [],
   "source": [
    "class TradeStrategy1(TradeStrategyBase):\n",
    "    '''\n",
    "    交易策略1： 追涨策略，当股价上涨一个阀值，默认为7%时，买入股票并持有，s_keep_stock_threshold(20)天\n",
    "    '''\n",
    "    \n",
    "    s_keep_stock_threshold = 20\n",
    "    \n",
    "    def __init__(self):\n",
    "        self.keep_stock_day = 0\n",
    "        self.__buy_change_threshold = 0.07\n",
    "        \n",
    "    def buy_strategy(self,trade_ind,trade_day,trade_days):\n",
    "        if self.keep_stock_day == 0 and trade_day.change > self.__buy_change_threshold:\n",
    "            self.keep_stock_day += 1\n",
    "        elif self.keep_stock_day > 0:\n",
    "            self.keep_stock_day += 1\n",
    "    \n",
    "    def sell_strategy(self,trade_ind,trade_day,trade_days):\n",
    "        if self.keep_stock_day >= TradeStrategy1.s_keep_stock_threshold:\n",
    "            self.keep_stock_day = 0\n",
    "            \n",
    "            \n",
    "    @property\n",
    "    def buy_change_threshold(self):\n",
    "        return self.__buy_change_threshold\n",
    "    @buy_change_threshold.setter\n",
    "    def buy_change_threshold(self,buy_change_threshold):\n",
    "        if not isinstance(buy_change_threshold,float):\n",
    "            raise TypeError('buy_change_threshold must be float!')\n",
    "        self.__buy_change_threshold = round(buy_change_threshold,2)"
   ]
  },
  {
   "cell_type": "code",
   "execution_count": 61,
   "metadata": {},
   "outputs": [],
   "source": [
    "class TradeLoopBack(object):\n",
    "    \n",
    "    def __init__(self, trade_days, trade_strategy):\n",
    "        self.trade_days = trade_days\n",
    "        self.trade_strategy = trade_strategy\n",
    "        self.profit_array = []\n",
    "        \n",
    "    def execute_trade(self):\n",
    "        for ind,day in enumerate(self.trade_days):\n",
    "            if self.trade_strategy.keep_stock_day > 0:\n",
    "                self.profit_array.append(day.change)\n",
    "            if hasattr(self.trade_strategy,'buy_strategy'):\n",
    "                self.trade_strategy.buy_strategy(ind,day,self.trade_days)\n",
    "            if hasattr(self.trade_strategy,'sell_strategy'):\n",
    "                self.trade_strategy.sell_strategy(ind,day,self.trade_days)"
   ]
  },
  {
   "cell_type": "code",
   "execution_count": 63,
   "metadata": {},
   "outputs": [
    {
     "name": "stdout",
     "output_type": "stream",
     "text": [
      "回测策略1 总盈亏为： 0.8%\n"
     ]
    }
   ],
   "source": [
    "trade_loop_back = TradeLoopBack(trade_days,TradeStrategy1())\n",
    "trade_loop_back.execute_trade()\n",
    "print(\n",
    "    '回测策略1 总盈亏为： {}%'.format(\n",
    "    reduce(lambda a,b: a+b,trade_loop_back.profit_array)*100)\n",
    "     )"
   ]
  },
  {
   "cell_type": "code",
   "execution_count": 64,
   "metadata": {},
   "outputs": [
    {
     "data": {
      "text/plain": [
       "[<matplotlib.lines.Line2D at 0x7f7427efe2b0>]"
      ]
     },
     "execution_count": 64,
     "metadata": {},
     "output_type": "execute_result"
    },
    {
     "data": {
      "image/png": "[encoded data removed]",
      "text/plain": [
       "<Figure size 432x288 with 1 Axes>"
      ]
     },
     "metadata": {},
     "output_type": "display_data"
    }
   ],
   "source": [
    "import numpy as np\n",
    "import matplotlib.pyplot as plt\n",
    "\n",
    "plt.plot(np.array(trade_loop_back.profit_array).cumsum())"
   ]
  },
  {
   "cell_type": "code",
   "execution_count": null,
   "metadata": {},
   "outputs": [],
   "source": []
  }
 ],
 "metadata": {
  "kernelspec": {
   "display_name": "Python 3",
   "language": "python",
   "name": "python3"
  },
  "language_info": {
   "codemirror_mode": {
    "name": "ipython",
    "version": 3
   },
   "file_extension": ".py",
   "mimetype": "text/x-python",
   "name": "python",
   "nbconvert_exporter": "python",
   "pygments_lexer": "ipython3",
   "version": "3.8.5"
  }
 },
 "nbformat": 4,
 "nbformat_minor": 4
}
