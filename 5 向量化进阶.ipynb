{
 "cells": [
  {
   "cell_type": "code",
   "execution_count": 1,
   "metadata": {},
   "outputs": [],
   "source": [
    "import numpy as np\n",
    "\n",
    "# ndarray创建方法补充\n",
    "r = np.random.standard_normal((4,3))\n",
    "s = np.random.standard_normal([4,3])"
   ]
  },
  {
   "cell_type": "code",
   "execution_count": 2,
   "metadata": {},
   "outputs": [
    {
     "data": {
      "text/plain": [
       "array([[-0.34889445,  0.98370343,  0.58092283],\n",
       "       [ 0.07028444,  0.77753268,  0.58195875],\n",
       "       [ 1.47179053,  1.66318101, -0.26117712],\n",
       "       [-0.68867681, -0.69492326,  1.94042346]])"
      ]
     },
     "execution_count": 2,
     "metadata": {},
     "output_type": "execute_result"
    }
   ],
   "source": [
    "# 锁定产生的随机数\n",
    "np.random.seed(32)\n",
    "s = np.random.standard_normal([4,3])\n",
    "s"
   ]
  },
  {
   "cell_type": "code",
   "execution_count": 4,
   "metadata": {},
   "outputs": [
    {
     "data": {
      "text/plain": [
       "array([[ 1.3315865 ,  0.71527897, -1.54540029],\n",
       "       [-0.00838385,  0.62133597, -0.72008556],\n",
       "       [ 0.26551159,  0.10854853,  0.00429143],\n",
       "       [-0.17460021,  0.43302619,  1.20303737]])"
      ]
     },
     "execution_count": 4,
     "metadata": {},
     "output_type": "execute_result"
    }
   ],
   "source": [
    "np.random.seed(10)\n",
    "t = np.random.standard_normal([4,3])\n",
    "t"
   ]
  },
  {
   "cell_type": "code",
   "execution_count": 5,
   "metadata": {},
   "outputs": [],
   "source": [
    "# broadcast 广播\n",
    "stock_pe = np.array(\n",
    "    [\n",
    "        [15,16,17,18,19],\n",
    "        [50,51,52,53,54],\n",
    "        [20,18,19,17,15],\n",
    "    ]\n",
    ")\n",
    "\n",
    "stock_position = np.array(\n",
    "    [\n",
    "        [10,15,20,30],\n",
    "        [20,20,25,20],\n",
    "        [10,10,10,11]\n",
    "    ]\n",
    ")"
   ]
  },
  {
   "cell_type": "code",
   "execution_count": 6,
   "metadata": {},
   "outputs": [
    {
     "data": {
      "text/plain": [
       "28.933333333333334"
      ]
     },
     "execution_count": 6,
     "metadata": {},
     "output_type": "execute_result"
    }
   ],
   "source": [
    "pe_average = np.average(stock_pe)\n",
    "pe_average"
   ]
  },
  {
   "cell_type": "code",
   "execution_count": 7,
   "metadata": {},
   "outputs": [
    {
     "data": {
      "text/plain": [
       "16.384816819916608"
      ]
     },
     "execution_count": 7,
     "metadata": {},
     "output_type": "execute_result"
    }
   ],
   "source": [
    "pe_std = np.std(stock_pe)\n",
    "pe_std"
   ]
  },
  {
   "cell_type": "code",
   "execution_count": 8,
   "metadata": {},
   "outputs": [
    {
     "data": {
      "text/plain": [
       "array([[-0.85038078, -0.78934867, -0.72831655, -0.66728444, -0.60625233],\n",
       "       [ 1.28574319,  1.3467753 ,  1.40780742,  1.46883953,  1.52987165],\n",
       "       [-0.54522021, -0.66728444, -0.60625233, -0.72831655, -0.85038078]])"
      ]
     },
     "execution_count": 8,
     "metadata": {},
     "output_type": "execute_result"
    }
   ],
   "source": [
    "# 标准化\n",
    "pe_standardized = (stock_pe - pe_average) / pe_std\n",
    "pe_standardized"
   ]
  },
  {
   "cell_type": "code",
   "execution_count": null,
   "metadata": {},
   "outputs": [],
   "source": []
  }
 ],
 "metadata": {
  "kernelspec": {
   "display_name": "Python 3",
   "language": "python",
   "name": "python3"
  },
  "language_info": {
   "codemirror_mode": {
    "name": "ipython",
    "version": 3
   },
   "file_extension": ".py",
   "mimetype": "text/x-python",
   "name": "python",
   "nbconvert_exporter": "python",
   "pygments_lexer": "ipython3",
   "version": "3.7.4"
  }
 },
 "nbformat": 4,
 "nbformat_minor": 2
}
