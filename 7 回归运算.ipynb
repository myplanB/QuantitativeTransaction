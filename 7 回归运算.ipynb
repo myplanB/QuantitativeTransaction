{
 "cells": [
  {
   "cell_type": "code",
   "execution_count": 1,
   "metadata": {},
   "outputs": [],
   "source": [
    "import numpy as np\n",
    "\n",
    "m = np.array([1,2,3,4,5])\n",
    "n = m * 5 + 2"
   ]
  },
  {
   "cell_type": "markdown",
   "metadata": {},
   "source": [
    "### ployfit 多项式拟合"
   ]
  },
  {
   "cell_type": "code",
   "execution_count": 2,
   "metadata": {},
   "outputs": [
    {
     "data": {
      "text/plain": [
       "array([5., 2.])"
      ]
     },
     "execution_count": 2,
     "metadata": {},
     "output_type": "execute_result"
    }
   ],
   "source": [
    "# 多项式拟合\n",
    "reg = np.polyfit(m,n,1)\n",
    "reg"
   ]
  },
  {
   "cell_type": "code",
   "execution_count": 3,
   "metadata": {},
   "outputs": [],
   "source": [
    "# 截距和斜率\n",
    "slope,intercept = np.polyfit(m,n,1)"
   ]
  },
  {
   "cell_type": "code",
   "execution_count": 4,
   "metadata": {},
   "outputs": [
    {
     "data": {
      "text/plain": [
       "5.000000000000001"
      ]
     },
     "execution_count": 4,
     "metadata": {},
     "output_type": "execute_result"
    }
   ],
   "source": [
    "# 斜率\n",
    "slope"
   ]
  },
  {
   "cell_type": "code",
   "execution_count": 5,
   "metadata": {},
   "outputs": [
    {
     "data": {
      "text/plain": [
       "2.000000000000004"
      ]
     },
     "execution_count": 5,
     "metadata": {},
     "output_type": "execute_result"
    }
   ],
   "source": [
    "# 截距\n",
    "intercept"
   ]
  },
  {
   "cell_type": "code",
   "execution_count": 8,
   "metadata": {},
   "outputs": [
    {
     "data": {
      "text/plain": [
       "array([2., 6., 9.])"
      ]
     },
     "execution_count": 8,
     "metadata": {},
     "output_type": "execute_result"
    }
   ],
   "source": [
    "# 如果出现多次函数的情况\n",
    "m = np.array([1,2,3,4,5])\n",
    "n = 2*m**2 + 6*m + 9\n",
    "reg = np.polyfit(m,n,2)\n",
    "reg"
   ]
  },
  {
   "cell_type": "markdown",
   "metadata": {},
   "source": [
    "###  ployval 计算多项式的值"
   ]
  },
  {
   "cell_type": "code",
   "execution_count": 6,
   "metadata": {},
   "outputs": [
    {
     "data": {
      "text/plain": [
       "76"
      ]
     },
     "execution_count": 6,
     "metadata": {},
     "output_type": "execute_result"
    }
   ],
   "source": [
    "# 返回计算结果，三个参数：二次回归\n",
    "np.polyval([3,0,1],5)"
   ]
  },
  {
   "cell_type": "code",
   "execution_count": 7,
   "metadata": {},
   "outputs": [
    {
     "data": {
      "text/plain": [
       "7"
      ]
     },
     "execution_count": 7,
     "metadata": {},
     "output_type": "execute_result"
    }
   ],
   "source": [
    "# 两个参数： 一次回归\n",
    "np.polyval([3,1],2)"
   ]
  },
  {
   "cell_type": "code",
   "execution_count": 8,
   "metadata": {},
   "outputs": [
    {
     "data": {
      "text/plain": [
       "array([[ 1.3315865 ,  0.71527897, -1.54540029, -0.00838385,  0.62133597,\n",
       "        -0.72008556,  0.26551159,  0.10854853],\n",
       "       [ 0.00429143, -0.17460021,  0.43302619,  1.20303737, -0.96506567,\n",
       "         1.02827408,  0.22863013,  0.44513761]])"
      ]
     },
     "execution_count": 8,
     "metadata": {},
     "output_type": "execute_result"
    }
   ],
   "source": [
    "# 设定随机种子\n",
    "np.random.seed(10)\n",
    "a = np.random.standard_normal([2,8])\n",
    "a"
   ]
  },
  {
   "cell_type": "markdown",
   "metadata": {},
   "source": [
    "### example"
   ]
  },
  {
   "cell_type": "code",
   "execution_count": 10,
   "metadata": {},
   "outputs": [
    {
     "data": {
      "text/plain": [
       "array([[-1.74976547e+00,  3.42680403e-01,  1.15303580e+00,\n",
       "        -2.52436037e-01,  9.81320787e-01,  5.14218841e-01,\n",
       "         2.21179669e-01, -1.07004333e+00, -1.89495831e-01,\n",
       "         2.55001444e-01, -4.58026986e-01,  4.35163488e-01,\n",
       "        -5.83595050e-01,  8.16847072e-01,  6.72720806e-01,\n",
       "        -1.04411143e-01, -5.31280377e-01,  1.02973269e+00,\n",
       "        -4.38135623e-01, -1.11831825e+00,  1.61898166e+00,\n",
       "         1.54160517e+00, -2.51879139e-01, -8.42435738e-01,\n",
       "         1.84518691e-01,  9.37082201e-01,  7.31000344e-01,\n",
       "         1.36155613e+00, -3.26238059e-01,  5.56760149e-02,\n",
       "         2.22399609e-01, -1.44321700e+00, -7.56352306e-01,\n",
       "         8.16454011e-01,  7.50444762e-01, -4.55946927e-01,\n",
       "         1.18962227e+00, -1.69061683e+00, -1.35639905e+00,\n",
       "        -1.23243451e+00, -5.44439162e-01, -6.68171737e-01,\n",
       "         7.31456323e-03, -6.12938735e-01,  1.29974807e+00,\n",
       "        -1.73309562e+00, -9.83310099e-01,  3.57507753e-01,\n",
       "        -1.61357850e+00,  1.47071387e+00, -1.18801760e+00,\n",
       "        -5.49746194e-01, -9.40046162e-01, -8.27932364e-01,\n",
       "         1.08863468e-01,  5.07809590e-01, -8.62227347e-01,\n",
       "         1.24946974e+00, -7.96112459e-02, -8.89731481e-01,\n",
       "        -8.81798389e-01,  1.86389495e-02,  2.37844622e-01,\n",
       "         1.35485486e-02, -1.63552940e+00, -1.04420988e+00,\n",
       "         6.13038882e-01,  7.36205213e-01,  1.02692144e+00,\n",
       "        -1.43219061e+00, -1.84118830e+00,  3.66093226e-01,\n",
       "        -3.31777135e-01, -6.89217978e-01,  2.03460756e+00,\n",
       "        -5.50714412e-01,  7.50453330e-01, -1.30699234e+00,\n",
       "         5.80573336e-01, -1.10452309e+00,  6.90121470e-01,\n",
       "         6.86890066e-01, -1.56668753e+00,  9.04974121e-01,\n",
       "         7.78822399e-01,  4.28232871e-01,  1.08871990e-01,\n",
       "         2.82836348e-02, -5.78825825e-01, -1.19945120e+00,\n",
       "        -1.70595201e+00,  3.69163957e-01,  1.87657343e+00,\n",
       "        -3.76903350e-01,  1.83193608e+00,  3.01743403e-03,\n",
       "        -7.60234657e-02,  3.95759399e-03, -1.85014111e-01,\n",
       "        -2.48715154e+00],\n",
       "       [-1.70465121e+00, -1.13626101e+00, -2.97331547e+00,\n",
       "         3.33172781e-02, -2.48888667e-01, -4.50176435e-01,\n",
       "         1.32427801e-01,  2.22139280e-02,  3.17367976e-01,\n",
       "        -7.52414178e-01, -1.29639181e+00,  9.51394436e-02,\n",
       "        -4.23715100e-01, -1.18598356e+00, -3.65461993e-01,\n",
       "        -1.27102304e+00,  1.58617094e+00,  6.93390659e-01,\n",
       "        -1.95808123e+00, -1.34801312e-01, -1.54061602e+00,\n",
       "         2.04671397e+00, -1.39699934e+00, -1.09717198e+00,\n",
       "        -2.38712869e-01, -1.42906690e+00,  9.49004777e-01,\n",
       "        -1.93975860e-02,  8.94597706e-01,  7.59693120e-01,\n",
       "        -1.49772038e+00, -1.19388598e+00,  1.29626259e+00,\n",
       "         9.52275626e-01, -1.21725413e+00, -1.57265167e-01,\n",
       "        -1.50758516e+00,  1.07884131e-01,  7.47055655e-01,\n",
       "         4.29676436e-01, -1.41504292e+00, -6.40759923e-01,\n",
       "         7.79626304e-01, -4.38120916e-01,  2.07479317e+00,\n",
       "        -3.43297682e-01, -6.16629372e-01,  7.63183646e-01,\n",
       "         1.92917192e-01, -3.48458931e-01,  2.29865394e+00,\n",
       "        -1.65209553e-01,  4.66299368e-01,  2.69987239e-01,\n",
       "        -3.19831047e-01, -1.14774160e+00,  1.70362399e+00,\n",
       "        -7.22150770e-01,  1.09368665e+00, -2.29517753e-01,\n",
       "        -8.89866329e-03, -5.43198008e-01,  7.53062188e-01,\n",
       "        -1.60943890e+00,  1.94326226e+00, -1.44743611e+00,\n",
       "         1.30248455e-01,  9.49360865e-01, -2.01518872e+00,\n",
       "        -7.95405869e-02,  3.01049464e-01, -1.68489996e+00,\n",
       "         2.22390809e-01, -6.84921735e-01, -1.26201184e-01,\n",
       "         1.99027365e+00,  5.22997805e-01, -1.63454028e-02,\n",
       "        -4.15816336e-01, -1.35850294e+00, -5.14429891e-01,\n",
       "        -2.16060120e-01,  4.22380220e-01, -1.09404293e+00,\n",
       "         1.23690789e+00, -2.30284678e-01, -7.04418200e-01,\n",
       "        -5.91375121e-01,  7.36995169e-01,  4.35867253e-01,\n",
       "         1.77599359e+00,  5.13074379e-01,  1.17052698e+00,\n",
       "         2.07771223e+00, -4.55922019e-01,  6.49172927e-01,\n",
       "        -1.74781554e-01,  1.01726434e+00, -5.99983045e-01,\n",
       "         1.57616672e+00],\n",
       "       [ 6.04423539e-01, -9.07030417e-01,  5.92023269e-01,\n",
       "        -4.37064416e-01,  1.01775773e-01,  1.30834683e+00,\n",
       "         1.38760181e+00, -1.73539115e+00,  2.88377420e-01,\n",
       "        -3.39085433e-01,  5.27369133e-01, -3.74302884e-01,\n",
       "         4.77092297e-01, -1.42976266e+00,  4.07706525e-01,\n",
       "        -8.28280393e-01,  4.23457282e-01, -1.59517365e-01,\n",
       "         1.24108209e+00,  1.66353631e+00, -6.61937715e-01,\n",
       "         3.46522715e+00,  3.91438619e-01,  3.27245353e-01,\n",
       "        -3.11347061e-01, -1.42465559e+00, -6.24872185e-01,\n",
       "        -1.09995396e-01,  9.52959428e-01, -9.83362644e-01,\n",
       "        -1.09455719e+00, -2.41348750e-01, -5.95113839e-01,\n",
       "        -9.82811895e-01,  8.82299344e-02, -6.02759370e-01,\n",
       "         1.12555545e+00,  9.27053299e-01, -2.26915699e+00,\n",
       "        -3.48170638e-01, -1.64025403e-01,  1.21658059e+00,\n",
       "        -6.26853905e-01, -2.74939808e-01,  1.14745744e+00,\n",
       "         1.15996897e+00,  7.02184505e-01, -1.28390481e+00,\n",
       "         1.52230777e+00, -1.79963318e-01, -3.76147368e-01,\n",
       "         4.60349211e-01,  1.45542146e+00,  2.41506888e-01,\n",
       "        -3.76666706e-02,  8.31533030e-01,  2.29936947e+00,\n",
       "        -9.39602443e-01,  1.11822579e-01,  2.53943203e+00,\n",
       "         4.03598415e-01, -1.88483439e+00,  1.27745203e+00,\n",
       "        -4.45588264e-01, -1.27031804e+00,  6.35501168e-01,\n",
       "        -2.98435671e-01, -4.02289922e-01, -5.36640427e-01,\n",
       "         8.23124402e-01,  2.51919033e-02,  1.51753613e+00,\n",
       "         3.69611151e-01, -4.80632162e-01,  1.04233274e+00,\n",
       "         1.09887599e+00, -2.13291037e+00,  7.59204331e-01,\n",
       "        -2.85180870e-01,  4.80411411e-01,  4.68000688e-01,\n",
       "         2.70900195e+00,  2.01908612e+00,  7.47403418e-01,\n",
       "        -5.89708587e-01, -8.13424825e-01, -1.76896864e-01,\n",
       "         5.07047502e-01, -2.66778164e-01, -8.56062022e-01,\n",
       "         1.55931486e+00, -1.09268886e+00,  7.58042498e-01,\n",
       "        -1.19943997e+00,  1.76370478e-01, -8.75730842e-01,\n",
       "         1.17608456e-01, -9.58168336e-01, -1.88111465e+00,\n",
       "         1.82342727e-01],\n",
       "       [-5.48492280e-01, -5.26349698e-02,  3.17339052e+00,\n",
       "         3.33420352e+00,  1.60337200e+00,  1.01289623e+00,\n",
       "         1.84452321e+00, -3.36143628e-01,  4.98750489e-01,\n",
       "        -1.07782608e+00,  5.76934060e-01,  8.65248486e-02,\n",
       "         3.83788848e-01,  1.33473076e+00,  1.67179119e+00,\n",
       "        -3.13007732e-01,  1.23552629e-01,  1.54772910e+00,\n",
       "        -1.07889177e-01,  1.00339756e+00,  8.87671781e-01,\n",
       "         8.86497906e-02, -1.32457810e+00,  2.38384645e-01,\n",
       "         1.19666146e+00, -4.64842570e-01, -1.13667271e+00,\n",
       "         2.48494625e-01,  3.50692814e-01, -1.32076715e-01,\n",
       "        -5.25645195e-01, -5.84889332e-01, -9.29247198e-01,\n",
       "         3.98416420e-01, -1.35590786e+00, -1.71158305e+00,\n",
       "         1.58598596e-01,  2.13248673e+00,  2.72133361e+00,\n",
       "        -1.97286405e+00,  5.39812919e-01,  5.43173180e-01,\n",
       "         9.63744531e-01,  1.25372613e+00, -2.20130564e-01,\n",
       "        -2.52270040e-01,  1.00371394e-02,  4.80288382e-01,\n",
       "        -1.95696755e+00, -5.64484658e-01, -1.16323582e+00,\n",
       "        -2.11757743e-02,  3.31071683e-01, -3.66496249e-01,\n",
       "         8.60475407e-01, -2.46597300e-01,  1.49053310e+00,\n",
       "        -3.99391377e-01,  3.25206292e-01, -6.54280854e-01,\n",
       "        -1.91227513e-02,  9.92941649e-01, -1.29596559e-01,\n",
       "        -1.70830408e-01,  7.90428090e-01,  1.09181591e+00,\n",
       "        -4.05083264e-01,  5.36443937e-01, -2.13131466e+00,\n",
       "         2.63076689e-01, -1.27105799e+00,  9.29100113e-01,\n",
       "        -1.93141286e+00,  2.42153406e-02, -1.21369154e+00,\n",
       "         1.88136957e-01, -5.72263899e-01,  2.74511796e+00,\n",
       "         1.24953979e-01, -1.06524615e+00,  6.03053698e-01,\n",
       "        -1.06146764e+00, -1.51643050e+00,  3.29282505e-01,\n",
       "        -1.98362094e+00,  1.67136784e-01, -1.78894000e-01,\n",
       "         1.17823916e+00, -4.43407986e-01,  7.38953901e-01,\n",
       "        -1.54848455e-01, -8.60556434e-02, -3.35756839e-01,\n",
       "        -1.36629379e-01,  9.27764250e-02,  1.89718792e-01,\n",
       "        -2.04867192e+00,  7.83786078e-01, -2.32984562e-01,\n",
       "        -1.18441143e+00],\n",
       "       [-1.97797290e-01, -8.54672789e-01,  2.35974959e-02,\n",
       "        -1.70456468e-01, -1.06966627e+00,  2.25838746e-01,\n",
       "        -8.67659498e-01,  4.18415239e-01, -2.30525815e+00,\n",
       "         1.62155600e-01, -5.78841121e-01, -3.99284635e-01,\n",
       "         1.48789443e+00, -3.57816852e-01,  3.56430894e-01,\n",
       "         1.03128220e+00,  1.52254309e+00, -1.01648111e+00,\n",
       "         1.12841475e+00, -9.27248599e-01, -1.19277138e+00,\n",
       "         1.37485942e+00, -7.03236951e-01,  2.44207071e-01,\n",
       "         1.03234591e+00,  1.61693990e+00, -5.48302373e-02,\n",
       "        -2.48011348e-01, -3.96724950e-01, -3.35470273e-02,\n",
       "         1.03291805e+00, -1.98982224e+00, -2.78033717e-01,\n",
       "         7.65695426e-01,  7.44149568e-01, -1.72319332e+00,\n",
       "         1.03039243e+00,  5.97147707e-02, -9.34215838e-01,\n",
       "        -1.06244114e+00, -6.29445861e-01, -3.02284425e-01,\n",
       "         1.03963889e+00, -9.30969653e-01, -1.27762908e+00,\n",
       "        -9.44320026e-01, -3.18807423e-01, -2.08427088e+00,\n",
       "         1.27031154e+00,  3.08777530e-02,  6.53175852e-01,\n",
       "         5.58346902e-01,  1.36397537e-01, -3.37338411e-01,\n",
       "        -1.33716505e+00, -4.11490952e-01, -1.07776194e-01,\n",
       "         5.22917363e-01,  9.56149979e-01,  1.20332059e+00,\n",
       "        -9.76231522e-01, -7.51525704e-02,  3.52806583e-01,\n",
       "         4.90374615e-02,  1.28601747e+00, -2.67225301e-01,\n",
       "         1.32423802e+00, -2.67591922e-01, -4.69406223e-01,\n",
       "        -1.42575628e+00,  8.05492106e-01,  1.35476914e+00,\n",
       "         8.25559181e-01, -2.58689590e-01,  7.57499524e-01,\n",
       "        -7.04455703e-01,  1.21131851e+00, -1.84223417e+00,\n",
       "        -3.68245564e-01, -1.54799256e+00, -4.51672271e-01,\n",
       "        -1.13754240e+00, -1.35876752e-01,  6.34379094e-01,\n",
       "        -1.35579180e-02,  3.75896827e-01, -2.36582353e-01,\n",
       "         9.79141336e-01,  1.09374820e+00, -1.38362216e+00,\n",
       "         1.01013388e+00,  8.72663126e-01,  1.03761234e+00,\n",
       "         3.02547702e-01, -1.29811748e+00,  8.47863718e-01,\n",
       "        -2.68876399e-01,  3.01982992e-01, -2.27190550e+00,\n",
       "         7.57604988e-01]])"
      ]
     },
     "execution_count": 10,
     "metadata": {},
     "output_type": "execute_result"
    }
   ],
   "source": [
    "np.random.seed(100)\n",
    "# 生成标准正态分布\n",
    "data = np.random.standard_normal([5,100])\n",
    "data"
   ]
  },
  {
   "cell_type": "code",
   "execution_count": 12,
   "metadata": {},
   "outputs": [
    {
     "data": {
      "text/plain": [
       "array([  0,   1,   2,   3,   4,   5,   6,   7,   8,   9,  10,  11,  12,\n",
       "        13,  14,  15,  16,  17,  18,  19,  20,  21,  22,  23,  24,  25,\n",
       "        26,  27,  28,  29,  30,  31,  32,  33,  34,  35,  36,  37,  38,\n",
       "        39,  40,  41,  42,  43,  44,  45,  46,  47,  48,  49,  50,  51,\n",
       "        52,  53,  54,  55,  56,  57,  58,  59,  60,  61,  62,  63,  64,\n",
       "        65,  66,  67,  68,  69,  70,  71,  72,  73,  74,  75,  76,  77,\n",
       "        78,  79,  80,  81,  82,  83,  84,  85,  86,  87,  88,  89,  90,\n",
       "        91,  92,  93,  94,  95,  96,  97,  98,  99, 100, 101, 102, 103,\n",
       "       104, 105, 106, 107, 108, 109, 110, 111, 112, 113, 114, 115, 116,\n",
       "       117, 118, 119, 120, 121, 122, 123, 124, 125, 126, 127, 128, 129,\n",
       "       130, 131, 132, 133, 134, 135, 136, 137, 138, 139, 140, 141, 142,\n",
       "       143, 144, 145, 146, 147, 148, 149, 150, 151, 152, 153, 154, 155,\n",
       "       156, 157, 158, 159, 160, 161, 162, 163, 164, 165, 166, 167, 168,\n",
       "       169, 170, 171, 172, 173, 174, 175, 176, 177, 178, 179, 180, 181,\n",
       "       182, 183, 184, 185, 186, 187, 188, 189, 190, 191, 192, 193, 194,\n",
       "       195, 196, 197, 198, 199, 200, 201, 202, 203, 204, 205, 206, 207,\n",
       "       208, 209, 210, 211, 212, 213, 214, 215, 216, 217, 218, 219, 220,\n",
       "       221, 222, 223, 224, 225, 226, 227, 228, 229, 230, 231, 232, 233,\n",
       "       234, 235, 236, 237, 238, 239, 240, 241, 242, 243, 244, 245, 246,\n",
       "       247, 248, 249, 250, 251, 252, 253, 254, 255, 256, 257, 258, 259,\n",
       "       260, 261, 262, 263, 264, 265, 266, 267, 268, 269, 270, 271, 272,\n",
       "       273, 274, 275, 276, 277, 278, 279, 280, 281, 282, 283, 284, 285,\n",
       "       286, 287, 288, 289, 290, 291, 292, 293, 294, 295, 296, 297, 298,\n",
       "       299, 300, 301, 302, 303, 304, 305, 306, 307, 308, 309, 310, 311,\n",
       "       312, 313, 314, 315, 316, 317, 318, 319, 320, 321, 322, 323, 324,\n",
       "       325, 326, 327, 328, 329, 330, 331, 332, 333, 334, 335, 336, 337,\n",
       "       338, 339, 340, 341, 342, 343, 344, 345, 346, 347, 348, 349, 350,\n",
       "       351, 352, 353, 354, 355, 356, 357, 358, 359, 360, 361, 362, 363,\n",
       "       364, 365, 366, 367, 368, 369, 370, 371, 372, 373, 374, 375, 376,\n",
       "       377, 378, 379, 380, 381, 382, 383, 384, 385, 386, 387, 388, 389,\n",
       "       390, 391, 392, 393, 394, 395, 396, 397, 398, 399, 400, 401, 402,\n",
       "       403, 404, 405, 406, 407, 408, 409, 410, 411, 412, 413, 414, 415,\n",
       "       416, 417, 418, 419, 420, 421, 422, 423, 424, 425, 426, 427, 428,\n",
       "       429, 430, 431, 432, 433, 434, 435, 436, 437, 438, 439, 440, 441,\n",
       "       442, 443, 444, 445, 446, 447, 448, 449, 450, 451, 452, 453, 454,\n",
       "       455, 456, 457, 458, 459, 460, 461, 462, 463, 464, 465, 466, 467,\n",
       "       468, 469, 470, 471, 472, 473, 474, 475, 476, 477, 478, 479, 480,\n",
       "       481, 482, 483, 484, 485, 486, 487, 488, 489, 490, 491, 492, 493,\n",
       "       494, 495, 496, 497, 498, 499])"
      ]
     },
     "execution_count": 12,
     "metadata": {},
     "output_type": "execute_result"
    }
   ],
   "source": [
    "# 生成一个长度为len（data）的列表\n",
    "x = np.arange(len(data.cumsum()))\n",
    "x"
   ]
  },
  {
   "cell_type": "code",
   "execution_count": 13,
   "metadata": {},
   "outputs": [
    {
     "data": {
      "text/plain": [
       "array([ -1.74976547,  -1.40708507,  -0.25404927,  -0.5064853 ,\n",
       "         0.47483548,   0.98905432,   1.21023399,   0.14019066,\n",
       "        -0.04930517,   0.20569628,  -0.25233071,   0.18283278,\n",
       "        -0.40076227,   0.4160848 ,   1.08880561,   0.98439446,\n",
       "         0.45311409,   1.48284677,   1.04471115,  -0.0736071 ,\n",
       "         1.54537456,   3.08697974,   2.8351006 ,   1.99266486,\n",
       "         2.17718355,   3.11426575,   3.8452661 ,   5.20682222,\n",
       "         4.88058416,   4.93626018,   5.15865978,   3.71544279,\n",
       "         2.95909048,   3.7755445 ,   4.52598926,   4.07004233,\n",
       "         5.2596646 ,   3.56904777,   2.21264872,   0.98021421,\n",
       "         0.43577505,  -0.23239669,  -0.22508213,  -0.83802086,\n",
       "         0.46172721,  -1.27136841,  -2.25467851,  -1.89717076,\n",
       "        -3.51074926,  -2.04003539,  -3.22805299,  -3.77779918,\n",
       "        -4.71784535,  -5.54577771,  -5.43691424,  -4.92910465,\n",
       "        -5.791332  ,  -4.54186226,  -4.6214735 ,  -5.51120498,\n",
       "        -6.39300337,  -6.37436442,  -6.1365198 ,  -6.12297125,\n",
       "        -7.75850065,  -8.80271053,  -8.18967165,  -7.45346643,\n",
       "        -6.426545  ,  -7.85873561,  -9.69992391,  -9.33383068,\n",
       "        -9.66560782, -10.35482579,  -8.32021823,  -8.87093264,\n",
       "        -8.12047931,  -9.42747165,  -8.84689832,  -9.95142141,\n",
       "        -9.26129994,  -8.57440987, -10.1410974 ,  -9.23612328,\n",
       "        -8.45730088,  -8.02906801,  -7.92019602,  -7.89191239,\n",
       "        -8.47073821,  -9.67018941, -11.37614142, -11.00697746,\n",
       "        -9.13040403,  -9.50730738,  -7.6753713 ,  -7.67235387,\n",
       "        -7.74837733,  -7.74441974,  -7.92943385, -10.41658538,\n",
       "       -12.12123659, -13.2574976 , -16.23081307, -16.19749579,\n",
       "       -16.44638446, -16.89656089, -16.76413309, -16.74191917,\n",
       "       -16.42455119, -17.17696537, -18.47335717, -18.37821773,\n",
       "       -18.80193283, -19.9879164 , -20.35337839, -21.62440143,\n",
       "       -20.03823049, -19.34483983, -21.30292107, -21.43772238,\n",
       "       -22.9783384 , -20.93162443, -22.32862378, -23.42579576,\n",
       "       -23.66450863, -25.09357553, -24.14457076, -24.16396834,\n",
       "       -23.26937064, -22.50967752, -24.0073979 , -25.20128387,\n",
       "       -23.90502129, -22.95274566, -24.16999979, -24.32726496,\n",
       "       -25.83485012, -25.72696599, -24.97991033, -24.5502339 ,\n",
       "       -25.96527682, -26.60603674, -25.82641044, -26.26453135,\n",
       "       -24.18973819, -24.53303587, -25.14966524, -24.38648159,\n",
       "       -24.1935644 , -24.54202333, -22.24336939, -22.40857895,\n",
       "       -21.94227958, -21.67229234, -21.99212339, -23.13986499,\n",
       "       -21.436241  , -22.15839177, -21.06470512, -21.29422287,\n",
       "       -21.30312153, -21.84631954, -21.09325735, -22.70269625,\n",
       "       -20.75943399, -22.2068701 , -22.07662164, -21.12726078,\n",
       "       -23.1424495 , -23.22199008, -22.92094062, -24.60584058,\n",
       "       -24.38344977, -25.06837151, -25.19457269, -23.20429904,\n",
       "       -22.68130124, -22.69764664, -23.11346298, -24.47196591,\n",
       "       -24.9863958 , -25.20245592, -24.7800757 , -25.87411863,\n",
       "       -24.63721075, -24.86749543, -25.57191363, -26.16328875,\n",
       "       -25.42629358, -24.99042633, -23.21443274, -22.70135836,\n",
       "       -21.53083138, -19.45311915, -19.90904117, -19.25986824,\n",
       "       -19.43464979, -18.41738545, -19.0173685 , -17.44120177,\n",
       "       -16.83677823, -17.74380865, -17.15178538, -17.5888498 ,\n",
       "       -17.48707402, -16.1787272 , -14.79112539, -16.52651653,\n",
       "       -16.23813911, -16.57722455, -16.04985541, -16.4241583 ,\n",
       "       -15.947066  , -17.37682866, -16.96912214, -17.79740253,\n",
       "       -17.37394525, -17.53346261, -16.29238052, -14.62884421,\n",
       "       -15.29078193, -11.82555478, -11.43411616, -11.10687081,\n",
       "       -11.41821787, -12.84287346, -13.46774564, -13.57774104,\n",
       "       -12.62478161, -13.60814425, -14.70270144, -14.94405019,\n",
       "       -15.53916403, -16.52197593, -16.43374599, -17.03650536,\n",
       "       -15.91094991, -14.98389661, -17.25305361, -17.60122424,\n",
       "       -17.76524965, -16.54866906, -17.17552296, -17.45046277,\n",
       "       -16.30300533, -15.14303636, -14.44085185, -15.72475666,\n",
       "       -14.20244889, -14.38241221, -14.75855958, -14.29821037,\n",
       "       -12.84278891, -12.60128202, -12.63894869, -11.80741566,\n",
       "        -9.50804619, -10.44764863, -10.33582606,  -7.79639402,\n",
       "        -7.39279561,  -9.27762999,  -8.00017796,  -8.44576623,\n",
       "        -9.71608427,  -9.0805831 ,  -9.37901877,  -9.78130869,\n",
       "       -10.31794912,  -9.49482472,  -9.46963281,  -7.95209668,\n",
       "        -7.58248553,  -8.0631177 ,  -7.02078495,  -5.92190897,\n",
       "        -8.05481934,  -7.29561501,  -7.58079588,  -7.10038447,\n",
       "        -6.63238378,  -3.92338183,  -1.90429571,  -1.1568923 ,\n",
       "        -1.74660088,  -2.56002571,  -2.73692257,  -2.22987507,\n",
       "        -2.49665323,  -3.35271526,  -1.7934004 ,  -2.88608926,\n",
       "        -2.12804677,  -3.32748674,  -3.15111626,  -4.0268471 ,\n",
       "        -3.90923864,  -4.86740698,  -6.74852163,  -6.5661789 ,\n",
       "        -7.11467118,  -7.16730615,  -3.99391563,  -0.65971211,\n",
       "         0.94365989,   1.95655612,   3.80107933,   3.4649357 ,\n",
       "         3.96368619,   2.88586011,   3.46279417,   3.54931902,\n",
       "         3.93310787,   5.26783862,   6.93962981,   6.62662208,\n",
       "         6.75017471,   8.29790381,   8.19001464,   9.19341219,\n",
       "        10.08108397,  10.16973376,   8.84515567,   9.08354031,\n",
       "        10.28020177,   9.8153592 ,   8.67868649,   8.92718112,\n",
       "         9.27787393,   9.14579722,   8.62015202,   8.03526269,\n",
       "         7.10601549,   7.50443191,   6.14852406,   4.436941  ,\n",
       "         4.5955396 ,   6.72802633,   9.44935994,   7.47649589,\n",
       "         8.01630881,   8.55948199,   9.52322652,  10.77695265,\n",
       "        10.55682209,  10.30455205,  10.31458919,  10.79487757,\n",
       "         8.83791002,   8.27342536,   7.11018954,   7.08901376,\n",
       "         7.42008545,   7.0535892 ,   7.9140646 ,   7.6674673 ,\n",
       "         9.1580004 ,   8.75860903,   9.08381532,   8.42953446,\n",
       "         8.41041171,   9.40335336,   9.2737568 ,   9.1029264 ,\n",
       "         9.89335449,  10.98517039,  10.58008713,  11.11653107,\n",
       "         8.98521641,   9.2482931 ,   7.97723511,   8.90633522,\n",
       "         6.97492237,   6.99913771,   5.78544617,   5.97358312,\n",
       "         5.40131923,   8.14643719,   8.27139117,   7.20614501,\n",
       "         7.80919871,   6.74773108,   5.23130058,   5.56058308,\n",
       "         3.57696214,   3.74409893,   3.56520493,   4.74344409,\n",
       "         4.3000361 ,   5.03899   ,   4.88414155,   4.7980859 ,\n",
       "         4.46232906,   4.32569968,   4.41847611,   4.6081949 ,\n",
       "         2.55952298,   3.34330906,   3.1103245 ,   1.92591307,\n",
       "         1.72811578,   0.87344299,   0.89704048,   0.72658402,\n",
       "        -0.34308225,  -0.11724351,  -0.984903  ,  -0.56648776,\n",
       "        -2.87174592,  -2.70959032,  -3.28843144,  -3.68771607,\n",
       "        -2.19982164,  -2.55763849,  -2.2012076 ,  -1.1699254 ,\n",
       "         0.35261769,  -0.66386342,   0.46455133,  -0.46269727,\n",
       "        -1.65546865,  -0.28060923,  -0.98384619,  -0.73963911,\n",
       "         0.2927068 ,   1.9096467 ,   1.85481646,   1.60680511,\n",
       "         1.21008016,   1.17653314,   2.20945118,   0.21962894,\n",
       "        -0.05840478,   0.70729065,   1.45144022,  -0.27175311,\n",
       "         0.75863932,   0.81835409,  -0.11586175,  -1.17830288,\n",
       "        -1.80774874,  -2.11003317,  -1.07039427,  -2.00136393,\n",
       "        -3.27899301,  -4.22331303,  -4.54212046,  -6.62639134,\n",
       "        -5.35607979,  -5.32520204,  -4.67202619,  -4.11367929,\n",
       "        -3.97728175,  -4.31462016,  -5.65178521,  -6.06327616,\n",
       "        -6.17105236,  -5.648135  ,  -4.69198502,  -3.48866442,\n",
       "        -4.46489595,  -4.54004852,  -4.18724193,  -4.13820447,\n",
       "        -2.85218701,  -3.11941231,  -1.79517428,  -2.06276621,\n",
       "        -2.53217243,  -3.95792871,  -3.1524366 ,  -1.79766746,\n",
       "        -0.97210828,  -1.23079787,  -0.47329835,  -1.17775405,\n",
       "         0.03356446,  -1.80866972,  -2.17691528,  -3.72490785,\n",
       "        -4.17658012,  -5.31412252,  -5.44999927,  -4.81562017,\n",
       "        -4.82917809,  -4.45328126,  -4.68986362,  -3.71072228,\n",
       "        -2.61697408,  -4.00059624,  -2.99046236,  -2.11779923,\n",
       "        -1.0801869 ,  -0.77763919,  -2.07575668,  -1.22789296,\n",
       "        -1.49676936,  -1.19478636,  -3.46669186,  -2.70908688])"
      ]
     },
     "execution_count": 13,
     "metadata": {},
     "output_type": "execute_result"
    }
   ],
   "source": [
    "y = data.cumsum()\n",
    "y"
   ]
  },
  {
   "cell_type": "code",
   "execution_count": 14,
   "metadata": {},
   "outputs": [
    {
     "data": {
      "text/plain": [
       "array([  0.02951261, -13.82129082])"
      ]
     },
     "execution_count": 14,
     "metadata": {},
     "output_type": "execute_result"
    }
   ],
   "source": [
    "reg1 = np.polyfit(x,y,1)\n",
    "reg1"
   ]
  },
  {
   "cell_type": "code",
   "execution_count": 15,
   "metadata": {},
   "outputs": [
    {
     "data": {
      "text/plain": [
       "array([ 1.85481129e-04, -6.30424750e-02, -6.13921892e+00])"
      ]
     },
     "execution_count": 15,
     "metadata": {},
     "output_type": "execute_result"
    }
   ],
   "source": [
    "reg2 = np.polyfit(x,y,2)\n",
    "reg2"
   ]
  },
  {
   "cell_type": "code",
   "execution_count": 16,
   "metadata": {},
   "outputs": [
    {
     "data": {
      "text/plain": [
       "array([-3.16766626e-06,  2.55647932e-03, -5.35820148e-01,  1.34219904e+01])"
      ]
     },
     "execution_count": 16,
     "metadata": {},
     "output_type": "execute_result"
    }
   ],
   "source": [
    "reg3 = np.polyfit(x,y,3)\n",
    "reg3"
   ]
  },
  {
   "cell_type": "code",
   "execution_count": 18,
   "metadata": {},
   "outputs": [
    {
     "data": {
      "text/plain": [
       "<matplotlib.legend.Legend at 0x10f4bbd50>"
      ]
     },
     "execution_count": 18,
     "metadata": {},
     "output_type": "execute_result"
    },
    {
     "data": {
      "image/png": "[encoded data removed]",
      "text/plain": [
       "<Figure size 720x432 with 1 Axes>"
      ]
     },
     "metadata": {
      "needs_background": "light"
     },
     "output_type": "display_data"
    }
   ],
   "source": [
    "# 绘制图像，将一次、二次和三次回归系数数据拟合原方程\n",
    "%matplotlib inline\n",
    "import matplotlib.pyplot as plt\n",
    "plt.figure(figsize=(10,6))\n",
    "plt.plot(x,y,'r',label='data')\n",
    "plt.plot(x,np.polyval(reg1,x),'b--',label='linear')\n",
    "plt.plot(x,np.polyval(reg2,x),'b-',label='quadratic')\n",
    "plt.plot(x,np.polyval(reg3,x),'b:',label='cubic')\n",
    "plt.legend(loc=0)"
   ]
  },
  {
   "cell_type": "code",
   "execution_count": null,
   "metadata": {},
   "outputs": [],
   "source": []
  }
 ],
 "metadata": {
  "kernelspec": {
   "display_name": "Python 3",
   "language": "python",
   "name": "python3"
  },
  "language_info": {
   "codemirror_mode": {
    "name": "ipython",
    "version": 3
   },
   "file_extension": ".py",
   "mimetype": "text/x-python",
   "name": "python",
   "nbconvert_exporter": "python",
   "pygments_lexer": "ipython3",
   "version": "3.7.4"
  }
 },
 "nbformat": 4,
 "nbformat_minor": 2
}
