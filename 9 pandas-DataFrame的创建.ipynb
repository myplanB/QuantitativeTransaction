{
 "cells": [
  {
   "cell_type": "code",
   "execution_count": 1,
   "metadata": {},
   "outputs": [],
   "source": [
    "# 引包\n",
    "import pandas as pd\n",
    "import numpy as np\n",
    "import warnings;\n",
    "warnings.simplefilter('ignore')"
   ]
  },
  {
   "cell_type": "code",
   "execution_count": 2,
   "metadata": {},
   "outputs": [
    {
     "data": {
      "text/plain": [
       "array([[ 0.9735881 , -1.60085964, -1.05747539, -0.55061116],\n",
       "       [-0.10590732, -0.1220805 ,  0.66647687, -1.70397605],\n",
       "       [ 0.81795996,  1.39938954,  0.14641391,  0.59486203],\n",
       "       [ 0.26518811,  0.31394511, -1.3389686 , -0.29642022],\n",
       "       [-0.29464452, -0.34461856,  0.05079721, -0.30755174],\n",
       "       [ 1.18057429, -0.2330767 , -1.10196199,  0.88697685]])"
      ]
     },
     "execution_count": 2,
     "metadata": {},
     "output_type": "execute_result"
    }
   ],
   "source": [
    "# 可以通过一下三种方式构建\n",
    "# 第一种方式：ndarray\n",
    "# 第二种方式：dict 方式构建DataFrame\n",
    "# 第三种方式：自定义DataFrame\n",
    "\n",
    "# 通过构建numpy的Ndarray\n",
    "array = np.random.randn(6,4)\n",
    "array"
   ]
  },
  {
   "cell_type": "code",
   "execution_count": 3,
   "metadata": {},
   "outputs": [
    {
     "data": {
      "text/html": [
       "<div>\n",
       "<style scoped>\n",
       "    .dataframe tbody tr th:only-of-type {\n",
       "        vertical-align: middle;\n",
       "    }\n",
       "\n",
       "    .dataframe tbody tr th {\n",
       "        vertical-align: top;\n",
       "    }\n",
       "\n",
       "    .dataframe thead th {\n",
       "        text-align: right;\n",
       "    }\n",
       "</style>\n",
       "<table border=\"1\" class=\"dataframe\">\n",
       "  <thead>\n",
       "    <tr style=\"text-align: right;\">\n",
       "      <th></th>\n",
       "      <th>0</th>\n",
       "      <th>1</th>\n",
       "      <th>2</th>\n",
       "      <th>3</th>\n",
       "    </tr>\n",
       "  </thead>\n",
       "  <tbody>\n",
       "    <tr>\n",
       "      <th>0</th>\n",
       "      <td>0.973588</td>\n",
       "      <td>-1.600860</td>\n",
       "      <td>-1.057475</td>\n",
       "      <td>-0.550611</td>\n",
       "    </tr>\n",
       "    <tr>\n",
       "      <th>1</th>\n",
       "      <td>-0.105907</td>\n",
       "      <td>-0.122081</td>\n",
       "      <td>0.666477</td>\n",
       "      <td>-1.703976</td>\n",
       "    </tr>\n",
       "    <tr>\n",
       "      <th>2</th>\n",
       "      <td>0.817960</td>\n",
       "      <td>1.399390</td>\n",
       "      <td>0.146414</td>\n",
       "      <td>0.594862</td>\n",
       "    </tr>\n",
       "    <tr>\n",
       "      <th>3</th>\n",
       "      <td>0.265188</td>\n",
       "      <td>0.313945</td>\n",
       "      <td>-1.338969</td>\n",
       "      <td>-0.296420</td>\n",
       "    </tr>\n",
       "    <tr>\n",
       "      <th>4</th>\n",
       "      <td>-0.294645</td>\n",
       "      <td>-0.344619</td>\n",
       "      <td>0.050797</td>\n",
       "      <td>-0.307552</td>\n",
       "    </tr>\n",
       "    <tr>\n",
       "      <th>5</th>\n",
       "      <td>1.180574</td>\n",
       "      <td>-0.233077</td>\n",
       "      <td>-1.101962</td>\n",
       "      <td>0.886977</td>\n",
       "    </tr>\n",
       "  </tbody>\n",
       "</table>\n",
       "</div>"
      ],
      "text/plain": [
       "          0         1         2         3\n",
       "0  0.973588 -1.600860 -1.057475 -0.550611\n",
       "1 -0.105907 -0.122081  0.666477 -1.703976\n",
       "2  0.817960  1.399390  0.146414  0.594862\n",
       "3  0.265188  0.313945 -1.338969 -0.296420\n",
       "4 -0.294645 -0.344619  0.050797 -0.307552\n",
       "5  1.180574 -0.233077 -1.101962  0.886977"
      ]
     },
     "execution_count": 3,
     "metadata": {},
     "output_type": "execute_result"
    }
   ],
   "source": [
    "df_obj = pd.DataFrame(array)\n",
    "df_obj"
   ]
  },
  {
   "cell_type": "code",
   "execution_count": 6,
   "metadata": {},
   "outputs": [
    {
     "data": {
      "text/html": [
       "<div>\n",
       "<style scoped>\n",
       "    .dataframe tbody tr th:only-of-type {\n",
       "        vertical-align: middle;\n",
       "    }\n",
       "\n",
       "    .dataframe tbody tr th {\n",
       "        vertical-align: top;\n",
       "    }\n",
       "\n",
       "    .dataframe thead th {\n",
       "        text-align: right;\n",
       "    }\n",
       "</style>\n",
       "<table border=\"1\" class=\"dataframe\">\n",
       "  <thead>\n",
       "    <tr style=\"text-align: right;\">\n",
       "      <th></th>\n",
       "      <th>a</th>\n",
       "      <th>b</th>\n",
       "      <th>c</th>\n",
       "      <th>d</th>\n",
       "    </tr>\n",
       "  </thead>\n",
       "  <tbody>\n",
       "    <tr>\n",
       "      <th>e</th>\n",
       "      <td>0.973588</td>\n",
       "      <td>-1.600860</td>\n",
       "      <td>-1.057475</td>\n",
       "      <td>-0.550611</td>\n",
       "    </tr>\n",
       "    <tr>\n",
       "      <th>f</th>\n",
       "      <td>-0.105907</td>\n",
       "      <td>-0.122081</td>\n",
       "      <td>0.666477</td>\n",
       "      <td>-1.703976</td>\n",
       "    </tr>\n",
       "    <tr>\n",
       "      <th>g</th>\n",
       "      <td>0.817960</td>\n",
       "      <td>1.399390</td>\n",
       "      <td>0.146414</td>\n",
       "      <td>0.594862</td>\n",
       "    </tr>\n",
       "    <tr>\n",
       "      <th>h</th>\n",
       "      <td>0.265188</td>\n",
       "      <td>0.313945</td>\n",
       "      <td>-1.338969</td>\n",
       "      <td>-0.296420</td>\n",
       "    </tr>\n",
       "    <tr>\n",
       "      <th>i</th>\n",
       "      <td>-0.294645</td>\n",
       "      <td>-0.344619</td>\n",
       "      <td>0.050797</td>\n",
       "      <td>-0.307552</td>\n",
       "    </tr>\n",
       "    <tr>\n",
       "      <th>j</th>\n",
       "      <td>1.180574</td>\n",
       "      <td>-0.233077</td>\n",
       "      <td>-1.101962</td>\n",
       "      <td>0.886977</td>\n",
       "    </tr>\n",
       "  </tbody>\n",
       "</table>\n",
       "</div>"
      ],
      "text/plain": [
       "          a         b         c         d\n",
       "e  0.973588 -1.600860 -1.057475 -0.550611\n",
       "f -0.105907 -0.122081  0.666477 -1.703976\n",
       "g  0.817960  1.399390  0.146414  0.594862\n",
       "h  0.265188  0.313945 -1.338969 -0.296420\n",
       "i -0.294645 -0.344619  0.050797 -0.307552\n",
       "j  1.180574 -0.233077 -1.101962  0.886977"
      ]
     },
     "execution_count": 6,
     "metadata": {},
     "output_type": "execute_result"
    }
   ],
   "source": [
    "# 给上面df加上行标签和列标签\n",
    "# 通过 colmns 和 index 来定义行和列\n",
    "df_obj = pd.DataFrame(array,columns=['a','b','c','d'],index=['e','f','g','h','i','j'])\n",
    "df_obj"
   ]
  },
  {
   "cell_type": "code",
   "execution_count": 9,
   "metadata": {},
   "outputs": [
    {
     "data": {
      "text/html": [
       "<div>\n",
       "<style scoped>\n",
       "    .dataframe tbody tr th:only-of-type {\n",
       "        vertical-align: middle;\n",
       "    }\n",
       "\n",
       "    .dataframe tbody tr th {\n",
       "        vertical-align: top;\n",
       "    }\n",
       "\n",
       "    .dataframe thead th {\n",
       "        text-align: right;\n",
       "    }\n",
       "</style>\n",
       "<table border=\"1\" class=\"dataframe\">\n",
       "  <thead>\n",
       "    <tr style=\"text-align: right;\">\n",
       "      <th></th>\n",
       "      <th>Date</th>\n",
       "      <th>Number</th>\n",
       "      <th>Crouse_name</th>\n",
       "      <th>Company</th>\n",
       "    </tr>\n",
       "  </thead>\n",
       "  <tbody>\n",
       "    <tr>\n",
       "      <th>0</th>\n",
       "      <td>1970-01-01 00:00:00.020191128</td>\n",
       "      <td>6</td>\n",
       "      <td>Python</td>\n",
       "      <td>JCAQF</td>\n",
       "    </tr>\n",
       "    <tr>\n",
       "      <th>1</th>\n",
       "      <td>1970-01-01 00:00:00.020191128</td>\n",
       "      <td>6</td>\n",
       "      <td>Quant</td>\n",
       "      <td>JCAQF</td>\n",
       "    </tr>\n",
       "    <tr>\n",
       "      <th>2</th>\n",
       "      <td>1970-01-01 00:00:00.020191128</td>\n",
       "      <td>6</td>\n",
       "      <td>Finance</td>\n",
       "      <td>JCAQF</td>\n",
       "    </tr>\n",
       "    <tr>\n",
       "      <th>3</th>\n",
       "      <td>1970-01-01 00:00:00.020191128</td>\n",
       "      <td>6</td>\n",
       "      <td>CFA</td>\n",
       "      <td>JCAQF</td>\n",
       "    </tr>\n",
       "  </tbody>\n",
       "</table>\n",
       "</div>"
      ],
      "text/plain": [
       "                           Date  Number Crouse_name Company\n",
       "0 1970-01-01 00:00:00.020191128       6      Python   JCAQF\n",
       "1 1970-01-01 00:00:00.020191128       6       Quant   JCAQF\n",
       "2 1970-01-01 00:00:00.020191128       6     Finance   JCAQF\n",
       "3 1970-01-01 00:00:00.020191128       6         CFA   JCAQF"
      ]
     },
     "execution_count": 9,
     "metadata": {},
     "output_type": "execute_result"
    }
   ],
   "source": [
    "# 基于字典方式构建,其实质是 key为列名，value为列值\n",
    "dict_data = {\n",
    "    'Date': pd.Timestamp(20191128),\n",
    "    'Number': pd.Series(6,list(range(4))),\n",
    "    'Crouse_name': pd.Series(['Python','Quant','Finance','CFA']),\n",
    "    'Company': 'JCAQF'\n",
    "}\n",
    "\n",
    "df = pd.DataFrame(dict_data)\n",
    "df"
   ]
  },
  {
   "cell_type": "markdown",
   "metadata": {},
   "source": [
    "## Series 与 DataFrame 的区别是 ： Series 没有 colmns属性"
   ]
  },
  {
   "cell_type": "code",
   "execution_count": 19,
   "metadata": {},
   "outputs": [
    {
     "data": {
      "text/html": [
       "<div>\n",
       "<style scoped>\n",
       "    .dataframe tbody tr th:only-of-type {\n",
       "        vertical-align: middle;\n",
       "    }\n",
       "\n",
       "    .dataframe tbody tr th {\n",
       "        vertical-align: top;\n",
       "    }\n",
       "\n",
       "    .dataframe thead th {\n",
       "        text-align: right;\n",
       "    }\n",
       "</style>\n",
       "<table border=\"1\" class=\"dataframe\">\n",
       "  <thead>\n",
       "    <tr style=\"text-align: right;\">\n",
       "      <th></th>\n",
       "      <th>a</th>\n",
       "      <th>d</th>\n",
       "    </tr>\n",
       "  </thead>\n",
       "  <tbody>\n",
       "    <tr>\n",
       "      <th>e</th>\n",
       "      <td>0.973588</td>\n",
       "      <td>-0.550611</td>\n",
       "    </tr>\n",
       "    <tr>\n",
       "      <th>f</th>\n",
       "      <td>-0.105907</td>\n",
       "      <td>-1.703976</td>\n",
       "    </tr>\n",
       "    <tr>\n",
       "      <th>g</th>\n",
       "      <td>0.817960</td>\n",
       "      <td>0.594862</td>\n",
       "    </tr>\n",
       "    <tr>\n",
       "      <th>h</th>\n",
       "      <td>0.265188</td>\n",
       "      <td>-0.296420</td>\n",
       "    </tr>\n",
       "    <tr>\n",
       "      <th>i</th>\n",
       "      <td>-0.294645</td>\n",
       "      <td>-0.307552</td>\n",
       "    </tr>\n",
       "    <tr>\n",
       "      <th>j</th>\n",
       "      <td>1.180574</td>\n",
       "      <td>0.886977</td>\n",
       "    </tr>\n",
       "  </tbody>\n",
       "</table>\n",
       "</div>"
      ],
      "text/plain": [
       "          a         d\n",
       "e  0.973588 -0.550611\n",
       "f -0.105907 -1.703976\n",
       "g  0.817960  0.594862\n",
       "h  0.265188 -0.296420\n",
       "i -0.294645 -0.307552\n",
       "j  1.180574  0.886977"
      ]
     },
     "execution_count": 19,
     "metadata": {},
     "output_type": "execute_result"
    }
   ],
   "source": [
    "# DataFrame 选择操作\n",
    "# 比如：现在需要选择 a行和d行的数据，那么可以表示如下：\n",
    "\n",
    "# 选择按照列名选择列\n",
    "df_obj[['a','d']]"
   ]
  },
  {
   "cell_type": "code",
   "execution_count": 21,
   "metadata": {},
   "outputs": [
    {
     "data": {
      "text/plain": [
       "a   -0.105907\n",
       "b   -0.122081\n",
       "c    0.666477\n",
       "d   -1.703976\n",
       "Name: f, dtype: float64"
      ]
     },
     "execution_count": 21,
     "metadata": {},
     "output_type": "execute_result"
    }
   ],
   "source": [
    "# 对于选择行数据\n",
    "# 对于选择单个行数据\n",
    "df_obj.loc['f']"
   ]
  },
  {
   "cell_type": "code",
   "execution_count": 23,
   "metadata": {},
   "outputs": [
    {
     "data": {
      "text/html": [
       "<div>\n",
       "<style scoped>\n",
       "    .dataframe tbody tr th:only-of-type {\n",
       "        vertical-align: middle;\n",
       "    }\n",
       "\n",
       "    .dataframe tbody tr th {\n",
       "        vertical-align: top;\n",
       "    }\n",
       "\n",
       "    .dataframe thead th {\n",
       "        text-align: right;\n",
       "    }\n",
       "</style>\n",
       "<table border=\"1\" class=\"dataframe\">\n",
       "  <thead>\n",
       "    <tr style=\"text-align: right;\">\n",
       "      <th></th>\n",
       "      <th>a</th>\n",
       "      <th>b</th>\n",
       "      <th>c</th>\n",
       "      <th>d</th>\n",
       "    </tr>\n",
       "  </thead>\n",
       "  <tbody>\n",
       "    <tr>\n",
       "      <th>e</th>\n",
       "      <td>0.973588</td>\n",
       "      <td>-1.600860</td>\n",
       "      <td>-1.057475</td>\n",
       "      <td>-0.550611</td>\n",
       "    </tr>\n",
       "    <tr>\n",
       "      <th>f</th>\n",
       "      <td>-0.105907</td>\n",
       "      <td>-0.122081</td>\n",
       "      <td>0.666477</td>\n",
       "      <td>-1.703976</td>\n",
       "    </tr>\n",
       "    <tr>\n",
       "      <th>g</th>\n",
       "      <td>0.817960</td>\n",
       "      <td>1.399390</td>\n",
       "      <td>0.146414</td>\n",
       "      <td>0.594862</td>\n",
       "    </tr>\n",
       "    <tr>\n",
       "      <th>h</th>\n",
       "      <td>0.265188</td>\n",
       "      <td>0.313945</td>\n",
       "      <td>-1.338969</td>\n",
       "      <td>-0.296420</td>\n",
       "    </tr>\n",
       "  </tbody>\n",
       "</table>\n",
       "</div>"
      ],
      "text/plain": [
       "          a         b         c         d\n",
       "e  0.973588 -1.600860 -1.057475 -0.550611\n",
       "f -0.105907 -0.122081  0.666477 -1.703976\n",
       "g  0.817960  1.399390  0.146414  0.594862\n",
       "h  0.265188  0.313945 -1.338969 -0.296420"
      ]
     },
     "execution_count": 23,
     "metadata": {},
     "output_type": "execute_result"
    }
   ],
   "source": [
    "# 选择多行数据(取多行连续数据)\n",
    "df_obj.loc['e':'h']"
   ]
  },
  {
   "cell_type": "code",
   "execution_count": 25,
   "metadata": {},
   "outputs": [
    {
     "data": {
      "text/html": [
       "<div>\n",
       "<style scoped>\n",
       "    .dataframe tbody tr th:only-of-type {\n",
       "        vertical-align: middle;\n",
       "    }\n",
       "\n",
       "    .dataframe tbody tr th {\n",
       "        vertical-align: top;\n",
       "    }\n",
       "\n",
       "    .dataframe thead th {\n",
       "        text-align: right;\n",
       "    }\n",
       "</style>\n",
       "<table border=\"1\" class=\"dataframe\">\n",
       "  <thead>\n",
       "    <tr style=\"text-align: right;\">\n",
       "      <th></th>\n",
       "      <th>a</th>\n",
       "      <th>b</th>\n",
       "      <th>c</th>\n",
       "      <th>d</th>\n",
       "    </tr>\n",
       "  </thead>\n",
       "  <tbody>\n",
       "    <tr>\n",
       "      <th>e</th>\n",
       "      <td>0.973588</td>\n",
       "      <td>-1.600860</td>\n",
       "      <td>-1.057475</td>\n",
       "      <td>-0.550611</td>\n",
       "    </tr>\n",
       "    <tr>\n",
       "      <th>i</th>\n",
       "      <td>-0.294645</td>\n",
       "      <td>-0.344619</td>\n",
       "      <td>0.050797</td>\n",
       "      <td>-0.307552</td>\n",
       "    </tr>\n",
       "  </tbody>\n",
       "</table>\n",
       "</div>"
      ],
      "text/plain": [
       "          a         b         c         d\n",
       "e  0.973588 -1.600860 -1.057475 -0.550611\n",
       "i -0.294645 -0.344619  0.050797 -0.307552"
      ]
     },
     "execution_count": 25,
     "metadata": {},
     "output_type": "execute_result"
    }
   ],
   "source": [
    "# 选择多行数据（不连续数据）\n",
    "df_obj.loc[['e','i']]"
   ]
  },
  {
   "cell_type": "code",
   "execution_count": 27,
   "metadata": {},
   "outputs": [
    {
     "data": {
      "text/html": [
       "<div>\n",
       "<style scoped>\n",
       "    .dataframe tbody tr th:only-of-type {\n",
       "        vertical-align: middle;\n",
       "    }\n",
       "\n",
       "    .dataframe tbody tr th {\n",
       "        vertical-align: top;\n",
       "    }\n",
       "\n",
       "    .dataframe thead th {\n",
       "        text-align: right;\n",
       "    }\n",
       "</style>\n",
       "<table border=\"1\" class=\"dataframe\">\n",
       "  <thead>\n",
       "    <tr style=\"text-align: right;\">\n",
       "      <th></th>\n",
       "      <th>a</th>\n",
       "      <th>c</th>\n",
       "    </tr>\n",
       "  </thead>\n",
       "  <tbody>\n",
       "    <tr>\n",
       "      <th>e</th>\n",
       "      <td>0.973588</td>\n",
       "      <td>-1.057475</td>\n",
       "    </tr>\n",
       "    <tr>\n",
       "      <th>h</th>\n",
       "      <td>0.265188</td>\n",
       "      <td>-1.338969</td>\n",
       "    </tr>\n",
       "  </tbody>\n",
       "</table>\n",
       "</div>"
      ],
      "text/plain": [
       "          a         c\n",
       "e  0.973588 -1.057475\n",
       "h  0.265188 -1.338969"
      ]
     },
     "execution_count": 27,
     "metadata": {},
     "output_type": "execute_result"
    }
   ],
   "source": [
    "# 还可以自由选择行和列\n",
    "df_obj.loc[['e','h'],['a','c']]"
   ]
  },
  {
   "cell_type": "code",
   "execution_count": 28,
   "metadata": {},
   "outputs": [
    {
     "data": {
      "text/html": [
       "<div>\n",
       "<style scoped>\n",
       "    .dataframe tbody tr th:only-of-type {\n",
       "        vertical-align: middle;\n",
       "    }\n",
       "\n",
       "    .dataframe tbody tr th {\n",
       "        vertical-align: top;\n",
       "    }\n",
       "\n",
       "    .dataframe thead th {\n",
       "        text-align: right;\n",
       "    }\n",
       "</style>\n",
       "<table border=\"1\" class=\"dataframe\">\n",
       "  <thead>\n",
       "    <tr style=\"text-align: right;\">\n",
       "      <th></th>\n",
       "      <th>a</th>\n",
       "      <th>b</th>\n",
       "      <th>c</th>\n",
       "      <th>d</th>\n",
       "    </tr>\n",
       "  </thead>\n",
       "  <tbody>\n",
       "    <tr>\n",
       "      <th>f</th>\n",
       "      <td>-0.105907</td>\n",
       "      <td>-0.122081</td>\n",
       "      <td>0.666477</td>\n",
       "      <td>-1.703976</td>\n",
       "    </tr>\n",
       "    <tr>\n",
       "      <th>g</th>\n",
       "      <td>0.817960</td>\n",
       "      <td>1.399390</td>\n",
       "      <td>0.146414</td>\n",
       "      <td>0.594862</td>\n",
       "    </tr>\n",
       "  </tbody>\n",
       "</table>\n",
       "</div>"
      ],
      "text/plain": [
       "          a         b         c         d\n",
       "f -0.105907 -0.122081  0.666477 -1.703976\n",
       "g  0.817960  1.399390  0.146414  0.594862"
      ]
     },
     "execution_count": 28,
     "metadata": {},
     "output_type": "execute_result"
    }
   ],
   "source": [
    "# loc与iloc的区别：loc 选取数据使用的是列名和行名，iloc/ix 选择数据是数据的index\n",
    "\n",
    "df_obj.iloc[1:3]"
   ]
  },
  {
   "cell_type": "code",
   "execution_count": 29,
   "metadata": {},
   "outputs": [
    {
     "data": {
      "text/html": [
       "<div>\n",
       "<style scoped>\n",
       "    .dataframe tbody tr th:only-of-type {\n",
       "        vertical-align: middle;\n",
       "    }\n",
       "\n",
       "    .dataframe tbody tr th {\n",
       "        vertical-align: top;\n",
       "    }\n",
       "\n",
       "    .dataframe thead th {\n",
       "        text-align: right;\n",
       "    }\n",
       "</style>\n",
       "<table border=\"1\" class=\"dataframe\">\n",
       "  <thead>\n",
       "    <tr style=\"text-align: right;\">\n",
       "      <th></th>\n",
       "      <th>a</th>\n",
       "      <th>b</th>\n",
       "      <th>c</th>\n",
       "      <th>d</th>\n",
       "    </tr>\n",
       "  </thead>\n",
       "  <tbody>\n",
       "    <tr>\n",
       "      <th>f</th>\n",
       "      <td>-0.105907</td>\n",
       "      <td>-0.122081</td>\n",
       "      <td>0.666477</td>\n",
       "      <td>-1.703976</td>\n",
       "    </tr>\n",
       "    <tr>\n",
       "      <th>g</th>\n",
       "      <td>0.817960</td>\n",
       "      <td>1.399390</td>\n",
       "      <td>0.146414</td>\n",
       "      <td>0.594862</td>\n",
       "    </tr>\n",
       "  </tbody>\n",
       "</table>\n",
       "</div>"
      ],
      "text/plain": [
       "          a         b         c         d\n",
       "f -0.105907 -0.122081  0.666477 -1.703976\n",
       "g  0.817960  1.399390  0.146414  0.594862"
      ]
     },
     "execution_count": 29,
     "metadata": {},
     "output_type": "execute_result"
    }
   ],
   "source": [
    "df_obj.ix[1:3]"
   ]
  },
  {
   "cell_type": "code",
   "execution_count": 36,
   "metadata": {},
   "outputs": [
    {
     "data": {
      "text/html": [
       "<div>\n",
       "<style scoped>\n",
       "    .dataframe tbody tr th:only-of-type {\n",
       "        vertical-align: middle;\n",
       "    }\n",
       "\n",
       "    .dataframe tbody tr th {\n",
       "        vertical-align: top;\n",
       "    }\n",
       "\n",
       "    .dataframe thead th {\n",
       "        text-align: right;\n",
       "    }\n",
       "</style>\n",
       "<table border=\"1\" class=\"dataframe\">\n",
       "  <thead>\n",
       "    <tr style=\"text-align: right;\">\n",
       "      <th></th>\n",
       "      <th>a</th>\n",
       "      <th>b</th>\n",
       "      <th>c</th>\n",
       "    </tr>\n",
       "  </thead>\n",
       "  <tbody>\n",
       "    <tr>\n",
       "      <th>f</th>\n",
       "      <td>-0.105907</td>\n",
       "      <td>-0.122081</td>\n",
       "      <td>0.666477</td>\n",
       "    </tr>\n",
       "    <tr>\n",
       "      <th>g</th>\n",
       "      <td>0.817960</td>\n",
       "      <td>1.399390</td>\n",
       "      <td>0.146414</td>\n",
       "    </tr>\n",
       "  </tbody>\n",
       "</table>\n",
       "</div>"
      ],
      "text/plain": [
       "          a         b         c\n",
       "f -0.105907 -0.122081  0.666477\n",
       "g  0.817960  1.399390  0.146414"
      ]
     },
     "execution_count": 36,
     "metadata": {},
     "output_type": "execute_result"
    }
   ],
   "source": [
    "# ix, 既可以选择序号，也可以是列名或者行名\n",
    "#  但是新版本即将取消ix功能\n",
    "df_obj.ix[1:3,'a':'c']"
   ]
  },
  {
   "cell_type": "code",
   "execution_count": null,
   "metadata": {},
   "outputs": [],
   "source": []
  }
 ],
 "metadata": {
  "kernelspec": {
   "display_name": "Python 3",
   "language": "python",
   "name": "python3"
  },
  "language_info": {
   "codemirror_mode": {
    "name": "ipython",
    "version": 3
   },
   "file_extension": ".py",
   "mimetype": "text/x-python",
   "name": "python",
   "nbconvert_exporter": "python",
   "pygments_lexer": "ipython3",
   "version": "3.7.4"
  }
 },
 "nbformat": 4,
 "nbformat_minor": 2
}
